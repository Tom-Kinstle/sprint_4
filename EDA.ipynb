{
 "cells": [
  {
   "cell_type": "markdown",
   "metadata": {},
   "source": [
    "# Exploratory Data Analysis Car Advertisement"
   ]
  },
  {
   "cell_type": "code",
   "execution_count": 10,
   "metadata": {},
   "outputs": [],
   "source": [
    "# Loading all the libraries\n",
    "import pandas as pd\n",
    "import matplotlib.pyplot as plt\n",
    "import seaborn as sns\n",
    "import numpy as np\n",
    "from scipy import stats as sp\n",
    "import streamlit as st\n",
    "import plotly_express as pl"
   ]
  },
  {
   "cell_type": "code",
   "execution_count": 11,
   "metadata": {},
   "outputs": [],
   "source": [
    "df = pd.read_csv('vehicles_us.csv')"
   ]
  },
  {
   "cell_type": "code",
   "execution_count": 12,
   "metadata": {},
   "outputs": [
    {
     "name": "stdout",
     "output_type": "stream",
     "text": [
      "<class 'pandas.core.frame.DataFrame'>\n",
      "RangeIndex: 51525 entries, 0 to 51524\n",
      "Data columns (total 13 columns):\n",
      " #   Column        Non-Null Count  Dtype  \n",
      "---  ------        --------------  -----  \n",
      " 0   price         51525 non-null  int64  \n",
      " 1   model_year    47906 non-null  float64\n",
      " 2   model         51525 non-null  object \n",
      " 3   condition     51525 non-null  object \n",
      " 4   cylinders     46265 non-null  float64\n",
      " 5   fuel          51525 non-null  object \n",
      " 6   odometer      43633 non-null  float64\n",
      " 7   transmission  51525 non-null  object \n",
      " 8   type          51525 non-null  object \n",
      " 9   paint_color   42258 non-null  object \n",
      " 10  is_4wd        25572 non-null  float64\n",
      " 11  date_posted   51525 non-null  object \n",
      " 12  days_listed   51525 non-null  int64  \n",
      "dtypes: float64(4), int64(2), object(7)\n",
      "memory usage: 5.1+ MB\n"
     ]
    },
    {
     "data": {
      "text/html": [
       "<div>\n",
       "<style scoped>\n",
       "    .dataframe tbody tr th:only-of-type {\n",
       "        vertical-align: middle;\n",
       "    }\n",
       "\n",
       "    .dataframe tbody tr th {\n",
       "        vertical-align: top;\n",
       "    }\n",
       "\n",
       "    .dataframe thead th {\n",
       "        text-align: right;\n",
       "    }\n",
       "</style>\n",
       "<table border=\"1\" class=\"dataframe\">\n",
       "  <thead>\n",
       "    <tr style=\"text-align: right;\">\n",
       "      <th></th>\n",
       "      <th>price</th>\n",
       "      <th>model_year</th>\n",
       "      <th>model</th>\n",
       "      <th>condition</th>\n",
       "      <th>cylinders</th>\n",
       "      <th>fuel</th>\n",
       "      <th>odometer</th>\n",
       "      <th>transmission</th>\n",
       "      <th>type</th>\n",
       "      <th>paint_color</th>\n",
       "      <th>is_4wd</th>\n",
       "      <th>date_posted</th>\n",
       "      <th>days_listed</th>\n",
       "    </tr>\n",
       "  </thead>\n",
       "  <tbody>\n",
       "    <tr>\n",
       "      <th>0</th>\n",
       "      <td>9400</td>\n",
       "      <td>2011.0</td>\n",
       "      <td>bmw x5</td>\n",
       "      <td>good</td>\n",
       "      <td>6.0</td>\n",
       "      <td>gas</td>\n",
       "      <td>145000.0</td>\n",
       "      <td>automatic</td>\n",
       "      <td>SUV</td>\n",
       "      <td>NaN</td>\n",
       "      <td>1.0</td>\n",
       "      <td>2018-06-23</td>\n",
       "      <td>19</td>\n",
       "    </tr>\n",
       "    <tr>\n",
       "      <th>1</th>\n",
       "      <td>25500</td>\n",
       "      <td>NaN</td>\n",
       "      <td>ford f-150</td>\n",
       "      <td>good</td>\n",
       "      <td>6.0</td>\n",
       "      <td>gas</td>\n",
       "      <td>88705.0</td>\n",
       "      <td>automatic</td>\n",
       "      <td>pickup</td>\n",
       "      <td>white</td>\n",
       "      <td>1.0</td>\n",
       "      <td>2018-10-19</td>\n",
       "      <td>50</td>\n",
       "    </tr>\n",
       "    <tr>\n",
       "      <th>2</th>\n",
       "      <td>5500</td>\n",
       "      <td>2013.0</td>\n",
       "      <td>hyundai sonata</td>\n",
       "      <td>like new</td>\n",
       "      <td>4.0</td>\n",
       "      <td>gas</td>\n",
       "      <td>110000.0</td>\n",
       "      <td>automatic</td>\n",
       "      <td>sedan</td>\n",
       "      <td>red</td>\n",
       "      <td>NaN</td>\n",
       "      <td>2019-02-07</td>\n",
       "      <td>79</td>\n",
       "    </tr>\n",
       "    <tr>\n",
       "      <th>3</th>\n",
       "      <td>1500</td>\n",
       "      <td>2003.0</td>\n",
       "      <td>ford f-150</td>\n",
       "      <td>fair</td>\n",
       "      <td>8.0</td>\n",
       "      <td>gas</td>\n",
       "      <td>NaN</td>\n",
       "      <td>automatic</td>\n",
       "      <td>pickup</td>\n",
       "      <td>NaN</td>\n",
       "      <td>NaN</td>\n",
       "      <td>2019-03-22</td>\n",
       "      <td>9</td>\n",
       "    </tr>\n",
       "    <tr>\n",
       "      <th>4</th>\n",
       "      <td>14900</td>\n",
       "      <td>2017.0</td>\n",
       "      <td>chrysler 200</td>\n",
       "      <td>excellent</td>\n",
       "      <td>4.0</td>\n",
       "      <td>gas</td>\n",
       "      <td>80903.0</td>\n",
       "      <td>automatic</td>\n",
       "      <td>sedan</td>\n",
       "      <td>black</td>\n",
       "      <td>NaN</td>\n",
       "      <td>2019-04-02</td>\n",
       "      <td>28</td>\n",
       "    </tr>\n",
       "    <tr>\n",
       "      <th>5</th>\n",
       "      <td>14990</td>\n",
       "      <td>2014.0</td>\n",
       "      <td>chrysler 300</td>\n",
       "      <td>excellent</td>\n",
       "      <td>6.0</td>\n",
       "      <td>gas</td>\n",
       "      <td>57954.0</td>\n",
       "      <td>automatic</td>\n",
       "      <td>sedan</td>\n",
       "      <td>black</td>\n",
       "      <td>1.0</td>\n",
       "      <td>2018-06-20</td>\n",
       "      <td>15</td>\n",
       "    </tr>\n",
       "    <tr>\n",
       "      <th>6</th>\n",
       "      <td>12990</td>\n",
       "      <td>2015.0</td>\n",
       "      <td>toyota camry</td>\n",
       "      <td>excellent</td>\n",
       "      <td>4.0</td>\n",
       "      <td>gas</td>\n",
       "      <td>79212.0</td>\n",
       "      <td>automatic</td>\n",
       "      <td>sedan</td>\n",
       "      <td>white</td>\n",
       "      <td>NaN</td>\n",
       "      <td>2018-12-27</td>\n",
       "      <td>73</td>\n",
       "    </tr>\n",
       "    <tr>\n",
       "      <th>7</th>\n",
       "      <td>15990</td>\n",
       "      <td>2013.0</td>\n",
       "      <td>honda pilot</td>\n",
       "      <td>excellent</td>\n",
       "      <td>6.0</td>\n",
       "      <td>gas</td>\n",
       "      <td>109473.0</td>\n",
       "      <td>automatic</td>\n",
       "      <td>SUV</td>\n",
       "      <td>black</td>\n",
       "      <td>1.0</td>\n",
       "      <td>2019-01-07</td>\n",
       "      <td>68</td>\n",
       "    </tr>\n",
       "    <tr>\n",
       "      <th>8</th>\n",
       "      <td>11500</td>\n",
       "      <td>2012.0</td>\n",
       "      <td>kia sorento</td>\n",
       "      <td>excellent</td>\n",
       "      <td>4.0</td>\n",
       "      <td>gas</td>\n",
       "      <td>104174.0</td>\n",
       "      <td>automatic</td>\n",
       "      <td>SUV</td>\n",
       "      <td>NaN</td>\n",
       "      <td>1.0</td>\n",
       "      <td>2018-07-16</td>\n",
       "      <td>19</td>\n",
       "    </tr>\n",
       "    <tr>\n",
       "      <th>9</th>\n",
       "      <td>9200</td>\n",
       "      <td>2008.0</td>\n",
       "      <td>honda pilot</td>\n",
       "      <td>excellent</td>\n",
       "      <td>NaN</td>\n",
       "      <td>gas</td>\n",
       "      <td>147191.0</td>\n",
       "      <td>automatic</td>\n",
       "      <td>SUV</td>\n",
       "      <td>blue</td>\n",
       "      <td>1.0</td>\n",
       "      <td>2019-02-15</td>\n",
       "      <td>17</td>\n",
       "    </tr>\n",
       "  </tbody>\n",
       "</table>\n",
       "</div>"
      ],
      "text/plain": [
       "   price  model_year           model  condition  cylinders fuel  odometer  \\\n",
       "0   9400      2011.0          bmw x5       good        6.0  gas  145000.0   \n",
       "1  25500         NaN      ford f-150       good        6.0  gas   88705.0   \n",
       "2   5500      2013.0  hyundai sonata   like new        4.0  gas  110000.0   \n",
       "3   1500      2003.0      ford f-150       fair        8.0  gas       NaN   \n",
       "4  14900      2017.0    chrysler 200  excellent        4.0  gas   80903.0   \n",
       "5  14990      2014.0    chrysler 300  excellent        6.0  gas   57954.0   \n",
       "6  12990      2015.0    toyota camry  excellent        4.0  gas   79212.0   \n",
       "7  15990      2013.0     honda pilot  excellent        6.0  gas  109473.0   \n",
       "8  11500      2012.0     kia sorento  excellent        4.0  gas  104174.0   \n",
       "9   9200      2008.0     honda pilot  excellent        NaN  gas  147191.0   \n",
       "\n",
       "  transmission    type paint_color  is_4wd date_posted  days_listed  \n",
       "0    automatic     SUV         NaN     1.0  2018-06-23           19  \n",
       "1    automatic  pickup       white     1.0  2018-10-19           50  \n",
       "2    automatic   sedan         red     NaN  2019-02-07           79  \n",
       "3    automatic  pickup         NaN     NaN  2019-03-22            9  \n",
       "4    automatic   sedan       black     NaN  2019-04-02           28  \n",
       "5    automatic   sedan       black     1.0  2018-06-20           15  \n",
       "6    automatic   sedan       white     NaN  2018-12-27           73  \n",
       "7    automatic     SUV       black     1.0  2019-01-07           68  \n",
       "8    automatic     SUV         NaN     1.0  2018-07-16           19  \n",
       "9    automatic     SUV        blue     1.0  2019-02-15           17  "
      ]
     },
     "metadata": {},
     "output_type": "display_data"
    }
   ],
   "source": [
    "df.info()\n",
    "display(df.head(10))"
   ]
  },
  {
   "cell_type": "code",
   "execution_count": 13,
   "metadata": {},
   "outputs": [],
   "source": [
    "#Clean data\n",
    "df['date_posted'] = pd.to_datetime(df['date_posted'])\n",
    "df['model_year'] = df['model_year'].fillna(9999).astype(int)\n",
    "df['odometer'] = df['odometer'].fillna(999999).astype(int)\n",
    "df['paint_color'] = df['paint_color'].astype('str', errors='ignore')\n",
    "#drop unessary columns and rows\n",
    "df = df.drop(['cylinders', 'fuel', 'transmission', 'is_4wd'], axis=1)\n",
    "df = df.drop_duplicates()\n",
    "# drop duplicate values\n",
    "df['type'] = df['type'].replace({'pickup': 'truck'})\n",
    "df['type'] = df['type'].replace({'offroad': 'SUV'})\n",
    "df_clean =df"
   ]
  },
  {
   "cell_type": "code",
   "execution_count": 14,
   "metadata": {},
   "outputs": [
    {
     "name": "stdout",
     "output_type": "stream",
     "text": [
      "<class 'pandas.core.frame.DataFrame'>\n",
      "RangeIndex: 51525 entries, 0 to 51524\n",
      "Data columns (total 9 columns):\n",
      " #   Column       Non-Null Count  Dtype         \n",
      "---  ------       --------------  -----         \n",
      " 0   price        51525 non-null  int64         \n",
      " 1   model_year   51525 non-null  int64         \n",
      " 2   model        51525 non-null  object        \n",
      " 3   condition    51525 non-null  object        \n",
      " 4   odometer     51525 non-null  int64         \n",
      " 5   type         51525 non-null  object        \n",
      " 6   paint_color  51525 non-null  object        \n",
      " 7   date_posted  51525 non-null  datetime64[ns]\n",
      " 8   days_listed  51525 non-null  int64         \n",
      "dtypes: datetime64[ns](1), int64(4), object(4)\n",
      "memory usage: 3.5+ MB\n"
     ]
    },
    {
     "data": {
      "text/plain": [
       "None"
      ]
     },
     "metadata": {},
     "output_type": "display_data"
    },
    {
     "data": {
      "text/html": [
       "<div>\n",
       "<style scoped>\n",
       "    .dataframe tbody tr th:only-of-type {\n",
       "        vertical-align: middle;\n",
       "    }\n",
       "\n",
       "    .dataframe tbody tr th {\n",
       "        vertical-align: top;\n",
       "    }\n",
       "\n",
       "    .dataframe thead th {\n",
       "        text-align: right;\n",
       "    }\n",
       "</style>\n",
       "<table border=\"1\" class=\"dataframe\">\n",
       "  <thead>\n",
       "    <tr style=\"text-align: right;\">\n",
       "      <th></th>\n",
       "      <th>price</th>\n",
       "      <th>model_year</th>\n",
       "      <th>model</th>\n",
       "      <th>condition</th>\n",
       "      <th>odometer</th>\n",
       "      <th>type</th>\n",
       "      <th>paint_color</th>\n",
       "      <th>date_posted</th>\n",
       "      <th>days_listed</th>\n",
       "    </tr>\n",
       "  </thead>\n",
       "  <tbody>\n",
       "    <tr>\n",
       "      <th>0</th>\n",
       "      <td>9400</td>\n",
       "      <td>2011</td>\n",
       "      <td>bmw x5</td>\n",
       "      <td>good</td>\n",
       "      <td>145000</td>\n",
       "      <td>SUV</td>\n",
       "      <td>nan</td>\n",
       "      <td>2018-06-23</td>\n",
       "      <td>19</td>\n",
       "    </tr>\n",
       "    <tr>\n",
       "      <th>1</th>\n",
       "      <td>25500</td>\n",
       "      <td>9999</td>\n",
       "      <td>ford f-150</td>\n",
       "      <td>good</td>\n",
       "      <td>88705</td>\n",
       "      <td>truck</td>\n",
       "      <td>white</td>\n",
       "      <td>2018-10-19</td>\n",
       "      <td>50</td>\n",
       "    </tr>\n",
       "    <tr>\n",
       "      <th>2</th>\n",
       "      <td>5500</td>\n",
       "      <td>2013</td>\n",
       "      <td>hyundai sonata</td>\n",
       "      <td>like new</td>\n",
       "      <td>110000</td>\n",
       "      <td>sedan</td>\n",
       "      <td>red</td>\n",
       "      <td>2019-02-07</td>\n",
       "      <td>79</td>\n",
       "    </tr>\n",
       "    <tr>\n",
       "      <th>3</th>\n",
       "      <td>1500</td>\n",
       "      <td>2003</td>\n",
       "      <td>ford f-150</td>\n",
       "      <td>fair</td>\n",
       "      <td>999999</td>\n",
       "      <td>truck</td>\n",
       "      <td>nan</td>\n",
       "      <td>2019-03-22</td>\n",
       "      <td>9</td>\n",
       "    </tr>\n",
       "    <tr>\n",
       "      <th>4</th>\n",
       "      <td>14900</td>\n",
       "      <td>2017</td>\n",
       "      <td>chrysler 200</td>\n",
       "      <td>excellent</td>\n",
       "      <td>80903</td>\n",
       "      <td>sedan</td>\n",
       "      <td>black</td>\n",
       "      <td>2019-04-02</td>\n",
       "      <td>28</td>\n",
       "    </tr>\n",
       "    <tr>\n",
       "      <th>5</th>\n",
       "      <td>14990</td>\n",
       "      <td>2014</td>\n",
       "      <td>chrysler 300</td>\n",
       "      <td>excellent</td>\n",
       "      <td>57954</td>\n",
       "      <td>sedan</td>\n",
       "      <td>black</td>\n",
       "      <td>2018-06-20</td>\n",
       "      <td>15</td>\n",
       "    </tr>\n",
       "    <tr>\n",
       "      <th>6</th>\n",
       "      <td>12990</td>\n",
       "      <td>2015</td>\n",
       "      <td>toyota camry</td>\n",
       "      <td>excellent</td>\n",
       "      <td>79212</td>\n",
       "      <td>sedan</td>\n",
       "      <td>white</td>\n",
       "      <td>2018-12-27</td>\n",
       "      <td>73</td>\n",
       "    </tr>\n",
       "    <tr>\n",
       "      <th>7</th>\n",
       "      <td>15990</td>\n",
       "      <td>2013</td>\n",
       "      <td>honda pilot</td>\n",
       "      <td>excellent</td>\n",
       "      <td>109473</td>\n",
       "      <td>SUV</td>\n",
       "      <td>black</td>\n",
       "      <td>2019-01-07</td>\n",
       "      <td>68</td>\n",
       "    </tr>\n",
       "    <tr>\n",
       "      <th>8</th>\n",
       "      <td>11500</td>\n",
       "      <td>2012</td>\n",
       "      <td>kia sorento</td>\n",
       "      <td>excellent</td>\n",
       "      <td>104174</td>\n",
       "      <td>SUV</td>\n",
       "      <td>nan</td>\n",
       "      <td>2018-07-16</td>\n",
       "      <td>19</td>\n",
       "    </tr>\n",
       "    <tr>\n",
       "      <th>9</th>\n",
       "      <td>9200</td>\n",
       "      <td>2008</td>\n",
       "      <td>honda pilot</td>\n",
       "      <td>excellent</td>\n",
       "      <td>147191</td>\n",
       "      <td>SUV</td>\n",
       "      <td>blue</td>\n",
       "      <td>2019-02-15</td>\n",
       "      <td>17</td>\n",
       "    </tr>\n",
       "  </tbody>\n",
       "</table>\n",
       "</div>"
      ],
      "text/plain": [
       "   price  model_year           model  condition  odometer   type paint_color  \\\n",
       "0   9400        2011          bmw x5       good    145000    SUV         nan   \n",
       "1  25500        9999      ford f-150       good     88705  truck       white   \n",
       "2   5500        2013  hyundai sonata   like new    110000  sedan         red   \n",
       "3   1500        2003      ford f-150       fair    999999  truck         nan   \n",
       "4  14900        2017    chrysler 200  excellent     80903  sedan       black   \n",
       "5  14990        2014    chrysler 300  excellent     57954  sedan       black   \n",
       "6  12990        2015    toyota camry  excellent     79212  sedan       white   \n",
       "7  15990        2013     honda pilot  excellent    109473    SUV       black   \n",
       "8  11500        2012     kia sorento  excellent    104174    SUV         nan   \n",
       "9   9200        2008     honda pilot  excellent    147191    SUV        blue   \n",
       "\n",
       "  date_posted  days_listed  \n",
       "0  2018-06-23           19  \n",
       "1  2018-10-19           50  \n",
       "2  2019-02-07           79  \n",
       "3  2019-03-22            9  \n",
       "4  2019-04-02           28  \n",
       "5  2018-06-20           15  \n",
       "6  2018-12-27           73  \n",
       "7  2019-01-07           68  \n",
       "8  2018-07-16           19  \n",
       "9  2019-02-15           17  "
      ]
     },
     "metadata": {},
     "output_type": "display_data"
    }
   ],
   "source": [
    "display(df_clean.info())\n",
    "display(df_clean.head(10))"
   ]
  },
  {
   "cell_type": "markdown",
   "metadata": {},
   "source": [
    "## Modeling Data\n"
   ]
  },
  {
   "cell_type": "code",
   "execution_count": 21,
   "metadata": {},
   "outputs": [
    {
     "data": {
      "application/vnd.plotly.v1+json": {
       "config": {
        "plotlyServerURL": "https://plot.ly"
       },
       "data": [
        {
         "alignmentgroup": "True",
         "hovertemplate": "Vehicle Type=%{x}<br>Average Price=%{y}<extra></extra>",
         "legendgroup": "",
         "marker": {
          "color": "#33ccff",
          "line": {
           "color": "black",
           "width": 1.5
          },
          "pattern": {
           "shape": ""
          }
         },
         "name": "",
         "offsetgroup": "",
         "orientation": "v",
         "showlegend": false,
         "textposition": "auto",
         "type": "bar",
         "x": [
          "hatchback",
          "sedan",
          "mini-van",
          "wagon",
          "van",
          "other",
          "SUV",
          "coupe",
          "convertible",
          "truck",
          "bus"
         ],
         "xaxis": "x",
         "y": [
          6868.513849092646,
          6965.358647358894,
          8193.177433247201,
          9088.134328358208,
          10546.941548183255,
          10989.71484375,
          11202.698946033759,
          14353.442900564482,
          14575.881165919283,
          16490.116384881858,
          17135.666666666668
         ],
         "yaxis": "y"
        }
       ],
       "layout": {
        "barmode": "relative",
        "legend": {
         "tracegroupgap": 0
        },
        "template": {
         "data": {
          "candlestick": [
           {
            "decreasing": {
             "line": {
              "color": "#000033"
             }
            },
            "increasing": {
             "line": {
              "color": "#000032"
             }
            },
            "type": "candlestick"
           }
          ],
          "contour": [
           {
            "colorscale": [
             [
              0,
              "#000011"
             ],
             [
              0.1111111111111111,
              "#000012"
             ],
             [
              0.2222222222222222,
              "#000013"
             ],
             [
              0.3333333333333333,
              "#000014"
             ],
             [
              0.4444444444444444,
              "#000015"
             ],
             [
              0.5555555555555556,
              "#000016"
             ],
             [
              0.6666666666666666,
              "#000017"
             ],
             [
              0.7777777777777778,
              "#000018"
             ],
             [
              0.8888888888888888,
              "#000019"
             ],
             [
              1,
              "#000020"
             ]
            ],
            "type": "contour"
           }
          ],
          "contourcarpet": [
           {
            "colorscale": [
             [
              0,
              "#000011"
             ],
             [
              0.1111111111111111,
              "#000012"
             ],
             [
              0.2222222222222222,
              "#000013"
             ],
             [
              0.3333333333333333,
              "#000014"
             ],
             [
              0.4444444444444444,
              "#000015"
             ],
             [
              0.5555555555555556,
              "#000016"
             ],
             [
              0.6666666666666666,
              "#000017"
             ],
             [
              0.7777777777777778,
              "#000018"
             ],
             [
              0.8888888888888888,
              "#000019"
             ],
             [
              1,
              "#000020"
             ]
            ],
            "type": "contourcarpet"
           }
          ],
          "heatmap": [
           {
            "colorscale": [
             [
              0,
              "#000011"
             ],
             [
              0.1111111111111111,
              "#000012"
             ],
             [
              0.2222222222222222,
              "#000013"
             ],
             [
              0.3333333333333333,
              "#000014"
             ],
             [
              0.4444444444444444,
              "#000015"
             ],
             [
              0.5555555555555556,
              "#000016"
             ],
             [
              0.6666666666666666,
              "#000017"
             ],
             [
              0.7777777777777778,
              "#000018"
             ],
             [
              0.8888888888888888,
              "#000019"
             ],
             [
              1,
              "#000020"
             ]
            ],
            "type": "heatmap"
           }
          ],
          "histogram2d": [
           {
            "colorscale": [
             [
              0,
              "#000011"
             ],
             [
              0.1111111111111111,
              "#000012"
             ],
             [
              0.2222222222222222,
              "#000013"
             ],
             [
              0.3333333333333333,
              "#000014"
             ],
             [
              0.4444444444444444,
              "#000015"
             ],
             [
              0.5555555555555556,
              "#000016"
             ],
             [
              0.6666666666666666,
              "#000017"
             ],
             [
              0.7777777777777778,
              "#000018"
             ],
             [
              0.8888888888888888,
              "#000019"
             ],
             [
              1,
              "#000020"
             ]
            ],
            "type": "histogram2d"
           }
          ],
          "icicle": [
           {
            "textfont": {
             "color": "white"
            },
            "type": "icicle"
           }
          ],
          "sankey": [
           {
            "textfont": {
             "color": "#000036"
            },
            "type": "sankey"
           }
          ],
          "scatter": [
           {
            "marker": {
             "line": {
              "width": 0
             }
            },
            "type": "scatter"
           }
          ],
          "table": [
           {
            "cells": {
             "fill": {
              "color": "#000038"
             },
             "font": {
              "color": "#000037"
             },
             "line": {
              "color": "#000039"
             }
            },
            "header": {
             "fill": {
              "color": "#000040"
             },
             "font": {
              "color": "#000036"
             },
             "line": {
              "color": "#000039"
             }
            },
            "type": "table"
           }
          ],
          "waterfall": [
           {
            "connector": {
             "line": {
              "color": "#000036",
              "width": 2
             }
            },
            "decreasing": {
             "marker": {
              "color": "#000033"
             }
            },
            "increasing": {
             "marker": {
              "color": "#000032"
             }
            },
            "totals": {
             "marker": {
              "color": "#000034"
             }
            },
            "type": "waterfall"
           }
          ]
         },
         "layout": {
          "coloraxis": {
           "colorscale": [
            [
             0,
             "#000011"
            ],
            [
             0.1111111111111111,
             "#000012"
            ],
            [
             0.2222222222222222,
             "#000013"
            ],
            [
             0.3333333333333333,
             "#000014"
            ],
            [
             0.4444444444444444,
             "#000015"
            ],
            [
             0.5555555555555556,
             "#000016"
            ],
            [
             0.6666666666666666,
             "#000017"
            ],
            [
             0.7777777777777778,
             "#000018"
            ],
            [
             0.8888888888888888,
             "#000019"
            ],
            [
             1,
             "#000020"
            ]
           ]
          },
          "colorscale": {
           "diverging": [
            [
             0,
             "#000021"
            ],
            [
             0.1,
             "#000022"
            ],
            [
             0.2,
             "#000023"
            ],
            [
             0.3,
             "#000024"
            ],
            [
             0.4,
             "#000025"
            ],
            [
             0.5,
             "#000026"
            ],
            [
             0.6,
             "#000027"
            ],
            [
             0.7,
             "#000028"
            ],
            [
             0.8,
             "#000029"
            ],
            [
             0.9,
             "#000030"
            ],
            [
             1,
             "#000031"
            ]
           ],
           "sequential": [
            [
             0,
             "#000011"
            ],
            [
             0.1111111111111111,
             "#000012"
            ],
            [
             0.2222222222222222,
             "#000013"
            ],
            [
             0.3333333333333333,
             "#000014"
            ],
            [
             0.4444444444444444,
             "#000015"
            ],
            [
             0.5555555555555556,
             "#000016"
            ],
            [
             0.6666666666666666,
             "#000017"
            ],
            [
             0.7777777777777778,
             "#000018"
            ],
            [
             0.8888888888888888,
             "#000019"
            ],
            [
             1,
             "#000020"
            ]
           ],
           "sequentialminus": [
            [
             0,
             "#000011"
            ],
            [
             0.1111111111111111,
             "#000012"
            ],
            [
             0.2222222222222222,
             "#000013"
            ],
            [
             0.3333333333333333,
             "#000014"
            ],
            [
             0.4444444444444444,
             "#000015"
            ],
            [
             0.5555555555555556,
             "#000016"
            ],
            [
             0.6666666666666666,
             "#000017"
            ],
            [
             0.7777777777777778,
             "#000018"
            ],
            [
             0.8888888888888888,
             "#000019"
            ],
            [
             1,
             "#000020"
            ]
           ]
          },
          "colorway": [
           "#000001",
           "#000002",
           "#000003",
           "#000004",
           "#000005",
           "#000006",
           "#000007",
           "#000008",
           "#000009",
           "#000010"
          ]
         }
        },
        "title": {
         "text": "Average Price by Vehicle Type"
        },
        "xaxis": {
         "anchor": "y",
         "domain": [
          0,
          1
         ],
         "title": {
          "text": "Vehicle Type"
         }
        },
        "yaxis": {
         "anchor": "x",
         "domain": [
          0,
          1
         ],
         "title": {
          "text": "Average Price"
         }
        }
       }
      }
     },
     "metadata": {},
     "output_type": "display_data"
    },
    {
     "data": {
      "application/vnd.plotly.v1+json": {
       "config": {
        "plotlyServerURL": "https://plot.ly"
       },
       "data": [
        {
         "alignmentgroup": "True",
         "hovertemplate": "Model Year=%{x}<br>Average Price=%{y}<extra></extra>",
         "legendgroup": "",
         "marker": {
          "color": "#8585e0",
          "line": {
           "color": "black",
           "width": 1.5
          },
          "pattern": {
           "shape": ""
          }
         },
         "name": "",
         "offsetgroup": "",
         "orientation": "v",
         "showlegend": false,
         "textposition": "auto",
         "type": "bar",
         "x": [
          1995,
          1996,
          1997,
          1998,
          1999,
          2000,
          2001,
          2002,
          2003,
          2004,
          2005,
          2006,
          2007,
          2008,
          2009,
          2010,
          2011,
          2012,
          2013,
          2014,
          2015,
          2016,
          2017,
          2018,
          2019
         ],
         "xaxis": "x",
         "y": [
          4343.027173913043,
          4643.4338624338625,
          4898.9021406727825,
          4520.195767195767,
          6212.600732600733,
          5085.404795486601,
          5150.439053254438,
          5733.137897782063,
          5871.4899095337505,
          6617.793263646922,
          6438.8108641975305,
          7592.977618621307,
          7691.0419977298525,
          8640.333789329685,
          8305.349206349207,
          9435.463768115942,
          11549.707851851852,
          11983.418685121107,
          13546.222597914906,
          15475.20939675174,
          18399.968101113453,
          19571.258632362897,
          20737.426209177345,
          24516.171454628362,
          26254.18157894737
         ],
         "yaxis": "y"
        }
       ],
       "layout": {
        "barmode": "relative",
        "legend": {
         "tracegroupgap": 0
        },
        "template": {
         "data": {
          "candlestick": [
           {
            "decreasing": {
             "line": {
              "color": "#000033"
             }
            },
            "increasing": {
             "line": {
              "color": "#000032"
             }
            },
            "type": "candlestick"
           }
          ],
          "contour": [
           {
            "colorscale": [
             [
              0,
              "#000011"
             ],
             [
              0.1111111111111111,
              "#000012"
             ],
             [
              0.2222222222222222,
              "#000013"
             ],
             [
              0.3333333333333333,
              "#000014"
             ],
             [
              0.4444444444444444,
              "#000015"
             ],
             [
              0.5555555555555556,
              "#000016"
             ],
             [
              0.6666666666666666,
              "#000017"
             ],
             [
              0.7777777777777778,
              "#000018"
             ],
             [
              0.8888888888888888,
              "#000019"
             ],
             [
              1,
              "#000020"
             ]
            ],
            "type": "contour"
           }
          ],
          "contourcarpet": [
           {
            "colorscale": [
             [
              0,
              "#000011"
             ],
             [
              0.1111111111111111,
              "#000012"
             ],
             [
              0.2222222222222222,
              "#000013"
             ],
             [
              0.3333333333333333,
              "#000014"
             ],
             [
              0.4444444444444444,
              "#000015"
             ],
             [
              0.5555555555555556,
              "#000016"
             ],
             [
              0.6666666666666666,
              "#000017"
             ],
             [
              0.7777777777777778,
              "#000018"
             ],
             [
              0.8888888888888888,
              "#000019"
             ],
             [
              1,
              "#000020"
             ]
            ],
            "type": "contourcarpet"
           }
          ],
          "heatmap": [
           {
            "colorscale": [
             [
              0,
              "#000011"
             ],
             [
              0.1111111111111111,
              "#000012"
             ],
             [
              0.2222222222222222,
              "#000013"
             ],
             [
              0.3333333333333333,
              "#000014"
             ],
             [
              0.4444444444444444,
              "#000015"
             ],
             [
              0.5555555555555556,
              "#000016"
             ],
             [
              0.6666666666666666,
              "#000017"
             ],
             [
              0.7777777777777778,
              "#000018"
             ],
             [
              0.8888888888888888,
              "#000019"
             ],
             [
              1,
              "#000020"
             ]
            ],
            "type": "heatmap"
           }
          ],
          "histogram2d": [
           {
            "colorscale": [
             [
              0,
              "#000011"
             ],
             [
              0.1111111111111111,
              "#000012"
             ],
             [
              0.2222222222222222,
              "#000013"
             ],
             [
              0.3333333333333333,
              "#000014"
             ],
             [
              0.4444444444444444,
              "#000015"
             ],
             [
              0.5555555555555556,
              "#000016"
             ],
             [
              0.6666666666666666,
              "#000017"
             ],
             [
              0.7777777777777778,
              "#000018"
             ],
             [
              0.8888888888888888,
              "#000019"
             ],
             [
              1,
              "#000020"
             ]
            ],
            "type": "histogram2d"
           }
          ],
          "icicle": [
           {
            "textfont": {
             "color": "white"
            },
            "type": "icicle"
           }
          ],
          "sankey": [
           {
            "textfont": {
             "color": "#000036"
            },
            "type": "sankey"
           }
          ],
          "scatter": [
           {
            "marker": {
             "line": {
              "width": 0
             }
            },
            "type": "scatter"
           }
          ],
          "table": [
           {
            "cells": {
             "fill": {
              "color": "#000038"
             },
             "font": {
              "color": "#000037"
             },
             "line": {
              "color": "#000039"
             }
            },
            "header": {
             "fill": {
              "color": "#000040"
             },
             "font": {
              "color": "#000036"
             },
             "line": {
              "color": "#000039"
             }
            },
            "type": "table"
           }
          ],
          "waterfall": [
           {
            "connector": {
             "line": {
              "color": "#000036",
              "width": 2
             }
            },
            "decreasing": {
             "marker": {
              "color": "#000033"
             }
            },
            "increasing": {
             "marker": {
              "color": "#000032"
             }
            },
            "totals": {
             "marker": {
              "color": "#000034"
             }
            },
            "type": "waterfall"
           }
          ]
         },
         "layout": {
          "coloraxis": {
           "colorscale": [
            [
             0,
             "#000011"
            ],
            [
             0.1111111111111111,
             "#000012"
            ],
            [
             0.2222222222222222,
             "#000013"
            ],
            [
             0.3333333333333333,
             "#000014"
            ],
            [
             0.4444444444444444,
             "#000015"
            ],
            [
             0.5555555555555556,
             "#000016"
            ],
            [
             0.6666666666666666,
             "#000017"
            ],
            [
             0.7777777777777778,
             "#000018"
            ],
            [
             0.8888888888888888,
             "#000019"
            ],
            [
             1,
             "#000020"
            ]
           ]
          },
          "colorscale": {
           "diverging": [
            [
             0,
             "#000021"
            ],
            [
             0.1,
             "#000022"
            ],
            [
             0.2,
             "#000023"
            ],
            [
             0.3,
             "#000024"
            ],
            [
             0.4,
             "#000025"
            ],
            [
             0.5,
             "#000026"
            ],
            [
             0.6,
             "#000027"
            ],
            [
             0.7,
             "#000028"
            ],
            [
             0.8,
             "#000029"
            ],
            [
             0.9,
             "#000030"
            ],
            [
             1,
             "#000031"
            ]
           ],
           "sequential": [
            [
             0,
             "#000011"
            ],
            [
             0.1111111111111111,
             "#000012"
            ],
            [
             0.2222222222222222,
             "#000013"
            ],
            [
             0.3333333333333333,
             "#000014"
            ],
            [
             0.4444444444444444,
             "#000015"
            ],
            [
             0.5555555555555556,
             "#000016"
            ],
            [
             0.6666666666666666,
             "#000017"
            ],
            [
             0.7777777777777778,
             "#000018"
            ],
            [
             0.8888888888888888,
             "#000019"
            ],
            [
             1,
             "#000020"
            ]
           ],
           "sequentialminus": [
            [
             0,
             "#000011"
            ],
            [
             0.1111111111111111,
             "#000012"
            ],
            [
             0.2222222222222222,
             "#000013"
            ],
            [
             0.3333333333333333,
             "#000014"
            ],
            [
             0.4444444444444444,
             "#000015"
            ],
            [
             0.5555555555555556,
             "#000016"
            ],
            [
             0.6666666666666666,
             "#000017"
            ],
            [
             0.7777777777777778,
             "#000018"
            ],
            [
             0.8888888888888888,
             "#000019"
            ],
            [
             1,
             "#000020"
            ]
           ]
          },
          "colorway": [
           "#000001",
           "#000002",
           "#000003",
           "#000004",
           "#000005",
           "#000006",
           "#000007",
           "#000008",
           "#000009",
           "#000010"
          ]
         }
        },
        "title": {
         "text": "Average Price by Model Year"
        },
        "xaxis": {
         "anchor": "y",
         "domain": [
          0,
          1
         ],
         "title": {
          "text": "Model Year"
         }
        },
        "yaxis": {
         "anchor": "x",
         "domain": [
          0,
          1
         ],
         "title": {
          "text": "Average Price"
         }
        }
       }
      }
     },
     "metadata": {},
     "output_type": "display_data"
    },
    {
     "data": {
      "application/vnd.plotly.v1+json": {
       "config": {
        "plotlyServerURL": "https://plot.ly"
       },
       "data": [
        {
         "alignmentgroup": "True",
         "hovertemplate": "condition=%{x}<br>Average Price=%{y}<extra></extra>",
         "legendgroup": "",
         "marker": {
          "color": "#b300b3",
          "line": {
           "color": "black",
           "width": 1.5
          },
          "pattern": {
           "shape": ""
          }
         },
         "name": "",
         "offsetgroup": "",
         "orientation": "v",
         "showlegend": false,
         "textposition": "auto",
         "type": "bar",
         "x": [
          "fair",
          "salvage",
          "good",
          "excellent",
          "like new",
          "new"
         ],
         "xaxis": "x",
         "y": [
          3386.502177971375,
          4242.295652173913,
          10877.439066765946,
          12806.669842166875,
          16677.445592576973,
          26050.3006993007
         ],
         "yaxis": "y"
        }
       ],
       "layout": {
        "barmode": "relative",
        "legend": {
         "tracegroupgap": 0
        },
        "template": {
         "data": {
          "candlestick": [
           {
            "decreasing": {
             "line": {
              "color": "#000033"
             }
            },
            "increasing": {
             "line": {
              "color": "#000032"
             }
            },
            "type": "candlestick"
           }
          ],
          "contour": [
           {
            "colorscale": [
             [
              0,
              "#000011"
             ],
             [
              0.1111111111111111,
              "#000012"
             ],
             [
              0.2222222222222222,
              "#000013"
             ],
             [
              0.3333333333333333,
              "#000014"
             ],
             [
              0.4444444444444444,
              "#000015"
             ],
             [
              0.5555555555555556,
              "#000016"
             ],
             [
              0.6666666666666666,
              "#000017"
             ],
             [
              0.7777777777777778,
              "#000018"
             ],
             [
              0.8888888888888888,
              "#000019"
             ],
             [
              1,
              "#000020"
             ]
            ],
            "type": "contour"
           }
          ],
          "contourcarpet": [
           {
            "colorscale": [
             [
              0,
              "#000011"
             ],
             [
              0.1111111111111111,
              "#000012"
             ],
             [
              0.2222222222222222,
              "#000013"
             ],
             [
              0.3333333333333333,
              "#000014"
             ],
             [
              0.4444444444444444,
              "#000015"
             ],
             [
              0.5555555555555556,
              "#000016"
             ],
             [
              0.6666666666666666,
              "#000017"
             ],
             [
              0.7777777777777778,
              "#000018"
             ],
             [
              0.8888888888888888,
              "#000019"
             ],
             [
              1,
              "#000020"
             ]
            ],
            "type": "contourcarpet"
           }
          ],
          "heatmap": [
           {
            "colorscale": [
             [
              0,
              "#000011"
             ],
             [
              0.1111111111111111,
              "#000012"
             ],
             [
              0.2222222222222222,
              "#000013"
             ],
             [
              0.3333333333333333,
              "#000014"
             ],
             [
              0.4444444444444444,
              "#000015"
             ],
             [
              0.5555555555555556,
              "#000016"
             ],
             [
              0.6666666666666666,
              "#000017"
             ],
             [
              0.7777777777777778,
              "#000018"
             ],
             [
              0.8888888888888888,
              "#000019"
             ],
             [
              1,
              "#000020"
             ]
            ],
            "type": "heatmap"
           }
          ],
          "histogram2d": [
           {
            "colorscale": [
             [
              0,
              "#000011"
             ],
             [
              0.1111111111111111,
              "#000012"
             ],
             [
              0.2222222222222222,
              "#000013"
             ],
             [
              0.3333333333333333,
              "#000014"
             ],
             [
              0.4444444444444444,
              "#000015"
             ],
             [
              0.5555555555555556,
              "#000016"
             ],
             [
              0.6666666666666666,
              "#000017"
             ],
             [
              0.7777777777777778,
              "#000018"
             ],
             [
              0.8888888888888888,
              "#000019"
             ],
             [
              1,
              "#000020"
             ]
            ],
            "type": "histogram2d"
           }
          ],
          "icicle": [
           {
            "textfont": {
             "color": "white"
            },
            "type": "icicle"
           }
          ],
          "sankey": [
           {
            "textfont": {
             "color": "#000036"
            },
            "type": "sankey"
           }
          ],
          "scatter": [
           {
            "marker": {
             "line": {
              "width": 0
             }
            },
            "type": "scatter"
           }
          ],
          "table": [
           {
            "cells": {
             "fill": {
              "color": "#000038"
             },
             "font": {
              "color": "#000037"
             },
             "line": {
              "color": "#000039"
             }
            },
            "header": {
             "fill": {
              "color": "#000040"
             },
             "font": {
              "color": "#000036"
             },
             "line": {
              "color": "#000039"
             }
            },
            "type": "table"
           }
          ],
          "waterfall": [
           {
            "connector": {
             "line": {
              "color": "#000036",
              "width": 2
             }
            },
            "decreasing": {
             "marker": {
              "color": "#000033"
             }
            },
            "increasing": {
             "marker": {
              "color": "#000032"
             }
            },
            "totals": {
             "marker": {
              "color": "#000034"
             }
            },
            "type": "waterfall"
           }
          ]
         },
         "layout": {
          "coloraxis": {
           "colorscale": [
            [
             0,
             "#000011"
            ],
            [
             0.1111111111111111,
             "#000012"
            ],
            [
             0.2222222222222222,
             "#000013"
            ],
            [
             0.3333333333333333,
             "#000014"
            ],
            [
             0.4444444444444444,
             "#000015"
            ],
            [
             0.5555555555555556,
             "#000016"
            ],
            [
             0.6666666666666666,
             "#000017"
            ],
            [
             0.7777777777777778,
             "#000018"
            ],
            [
             0.8888888888888888,
             "#000019"
            ],
            [
             1,
             "#000020"
            ]
           ]
          },
          "colorscale": {
           "diverging": [
            [
             0,
             "#000021"
            ],
            [
             0.1,
             "#000022"
            ],
            [
             0.2,
             "#000023"
            ],
            [
             0.3,
             "#000024"
            ],
            [
             0.4,
             "#000025"
            ],
            [
             0.5,
             "#000026"
            ],
            [
             0.6,
             "#000027"
            ],
            [
             0.7,
             "#000028"
            ],
            [
             0.8,
             "#000029"
            ],
            [
             0.9,
             "#000030"
            ],
            [
             1,
             "#000031"
            ]
           ],
           "sequential": [
            [
             0,
             "#000011"
            ],
            [
             0.1111111111111111,
             "#000012"
            ],
            [
             0.2222222222222222,
             "#000013"
            ],
            [
             0.3333333333333333,
             "#000014"
            ],
            [
             0.4444444444444444,
             "#000015"
            ],
            [
             0.5555555555555556,
             "#000016"
            ],
            [
             0.6666666666666666,
             "#000017"
            ],
            [
             0.7777777777777778,
             "#000018"
            ],
            [
             0.8888888888888888,
             "#000019"
            ],
            [
             1,
             "#000020"
            ]
           ],
           "sequentialminus": [
            [
             0,
             "#000011"
            ],
            [
             0.1111111111111111,
             "#000012"
            ],
            [
             0.2222222222222222,
             "#000013"
            ],
            [
             0.3333333333333333,
             "#000014"
            ],
            [
             0.4444444444444444,
             "#000015"
            ],
            [
             0.5555555555555556,
             "#000016"
            ],
            [
             0.6666666666666666,
             "#000017"
            ],
            [
             0.7777777777777778,
             "#000018"
            ],
            [
             0.8888888888888888,
             "#000019"
            ],
            [
             1,
             "#000020"
            ]
           ]
          },
          "colorway": [
           "#000001",
           "#000002",
           "#000003",
           "#000004",
           "#000005",
           "#000006",
           "#000007",
           "#000008",
           "#000009",
           "#000010"
          ]
         }
        },
        "title": {
         "text": "Average Price by Condition"
        },
        "xaxis": {
         "anchor": "y",
         "domain": [
          0,
          1
         ],
         "title": {
          "text": "condition"
         }
        },
        "yaxis": {
         "anchor": "x",
         "domain": [
          0,
          1
         ],
         "title": {
          "text": "Average Price"
         }
        }
       }
      }
     },
     "metadata": {},
     "output_type": "display_data"
    }
   ],
   "source": [
    "#average price by vehicle type\n",
    "avg_type = df.groupby('type')['price'].mean().reset_index()\n",
    "avg_type = avg_type.sort_values(by='price', ascending=True)\n",
    "\n",
    "# average price by model year\n",
    "avg_year = df.groupby('model_year')['price'].mean().reset_index()\n",
    "\n",
    "# removed extreme values for year to prevent data being skewed\n",
    "avg_year = avg_year[(avg_year['model_year'] <= 2020) & (avg_year['model_year'] >= 1995)]\n",
    "\n",
    "# average price by condition \n",
    "avg_condition = df.groupby('condition')['price'].mean().reset_index()\n",
    "avg_condition = avg_condition.sort_values(by='price', ascending=True)\n",
    "# Create bar charts\n",
    "fig1 = pl.bar(avg_type, x='type', y='price', title='Average Price by Vehicle Type',  color_discrete_sequence=['#33ccff'], labels={'type': 'Vehicle Type', 'price': 'Average Price'})\n",
    "fig1.update_traces(marker_line_color='black', marker_line_width=1.5)\n",
    "\n",
    "fig2 = pl.bar(avg_year, x='model_year', y='price', title='Average Price by Model Year',  color_discrete_sequence=['#8585e0'], labels={'model_year': 'Model Year', 'price': 'Average Price'})\n",
    "fig2.update_traces(marker_line_color='black', marker_line_width=1.5)\n",
    "\n",
    "fig3 = pl.bar(avg_condition, x='condition', y='price', title='Average Price by Condition',  color_discrete_sequence=['#b300b3'], labels={'model_year': 'Model Year', 'price': 'Average Price'})\n",
    "fig3.update_traces(marker_line_color='black', marker_line_width=1.5)\n",
    "\n",
    "\n",
    "fig1.show()\n",
    "fig2.show()\n",
    "fig3.show()"
   ]
  },
  {
   "cell_type": "code",
   "execution_count": 7,
   "metadata": {},
   "outputs": [
    {
     "data": {
      "application/vnd.plotly.v1+json": {
       "config": {
        "plotlyServerURL": "https://plot.ly"
       },
       "data": [
        {
         "hovertemplate": "Vehicle Condition=%{x}<br>Days Listed=%{y}<extra></extra>",
         "legendgroup": "",
         "marker": {
          "color": "#ffff00",
          "line": {
           "color": "black",
           "width": 2.5
          },
          "size": 30,
          "symbol": "circle"
         },
         "mode": "markers",
         "name": "",
         "orientation": "v",
         "showlegend": false,
         "type": "scatter",
         "x": [
          "excellent",
          "fair",
          "good",
          "like new",
          "new",
          "salvage"
         ],
         "xaxis": "x",
         "y": [
          39.611714366447345,
          39.11823273179838,
          39.6313229089104,
          39.16680725432307,
          37.11188811188811,
          39.00869565217391
         ],
         "yaxis": "y"
        }
       ],
       "layout": {
        "legend": {
         "tracegroupgap": 0
        },
        "template": {
         "data": {
          "candlestick": [
           {
            "decreasing": {
             "line": {
              "color": "#000033"
             }
            },
            "increasing": {
             "line": {
              "color": "#000032"
             }
            },
            "type": "candlestick"
           }
          ],
          "contour": [
           {
            "colorscale": [
             [
              0,
              "#000011"
             ],
             [
              0.1111111111111111,
              "#000012"
             ],
             [
              0.2222222222222222,
              "#000013"
             ],
             [
              0.3333333333333333,
              "#000014"
             ],
             [
              0.4444444444444444,
              "#000015"
             ],
             [
              0.5555555555555556,
              "#000016"
             ],
             [
              0.6666666666666666,
              "#000017"
             ],
             [
              0.7777777777777778,
              "#000018"
             ],
             [
              0.8888888888888888,
              "#000019"
             ],
             [
              1,
              "#000020"
             ]
            ],
            "type": "contour"
           }
          ],
          "contourcarpet": [
           {
            "colorscale": [
             [
              0,
              "#000011"
             ],
             [
              0.1111111111111111,
              "#000012"
             ],
             [
              0.2222222222222222,
              "#000013"
             ],
             [
              0.3333333333333333,
              "#000014"
             ],
             [
              0.4444444444444444,
              "#000015"
             ],
             [
              0.5555555555555556,
              "#000016"
             ],
             [
              0.6666666666666666,
              "#000017"
             ],
             [
              0.7777777777777778,
              "#000018"
             ],
             [
              0.8888888888888888,
              "#000019"
             ],
             [
              1,
              "#000020"
             ]
            ],
            "type": "contourcarpet"
           }
          ],
          "heatmap": [
           {
            "colorscale": [
             [
              0,
              "#000011"
             ],
             [
              0.1111111111111111,
              "#000012"
             ],
             [
              0.2222222222222222,
              "#000013"
             ],
             [
              0.3333333333333333,
              "#000014"
             ],
             [
              0.4444444444444444,
              "#000015"
             ],
             [
              0.5555555555555556,
              "#000016"
             ],
             [
              0.6666666666666666,
              "#000017"
             ],
             [
              0.7777777777777778,
              "#000018"
             ],
             [
              0.8888888888888888,
              "#000019"
             ],
             [
              1,
              "#000020"
             ]
            ],
            "type": "heatmap"
           }
          ],
          "histogram2d": [
           {
            "colorscale": [
             [
              0,
              "#000011"
             ],
             [
              0.1111111111111111,
              "#000012"
             ],
             [
              0.2222222222222222,
              "#000013"
             ],
             [
              0.3333333333333333,
              "#000014"
             ],
             [
              0.4444444444444444,
              "#000015"
             ],
             [
              0.5555555555555556,
              "#000016"
             ],
             [
              0.6666666666666666,
              "#000017"
             ],
             [
              0.7777777777777778,
              "#000018"
             ],
             [
              0.8888888888888888,
              "#000019"
             ],
             [
              1,
              "#000020"
             ]
            ],
            "type": "histogram2d"
           }
          ],
          "icicle": [
           {
            "textfont": {
             "color": "white"
            },
            "type": "icicle"
           }
          ],
          "sankey": [
           {
            "textfont": {
             "color": "#000036"
            },
            "type": "sankey"
           }
          ],
          "scatter": [
           {
            "marker": {
             "line": {
              "width": 0
             }
            },
            "type": "scatter"
           }
          ],
          "table": [
           {
            "cells": {
             "fill": {
              "color": "#000038"
             },
             "font": {
              "color": "#000037"
             },
             "line": {
              "color": "#000039"
             }
            },
            "header": {
             "fill": {
              "color": "#000040"
             },
             "font": {
              "color": "#000036"
             },
             "line": {
              "color": "#000039"
             }
            },
            "type": "table"
           }
          ],
          "waterfall": [
           {
            "connector": {
             "line": {
              "color": "#000036",
              "width": 2
             }
            },
            "decreasing": {
             "marker": {
              "color": "#000033"
             }
            },
            "increasing": {
             "marker": {
              "color": "#000032"
             }
            },
            "totals": {
             "marker": {
              "color": "#000034"
             }
            },
            "type": "waterfall"
           }
          ]
         },
         "layout": {
          "coloraxis": {
           "colorscale": [
            [
             0,
             "#000011"
            ],
            [
             0.1111111111111111,
             "#000012"
            ],
            [
             0.2222222222222222,
             "#000013"
            ],
            [
             0.3333333333333333,
             "#000014"
            ],
            [
             0.4444444444444444,
             "#000015"
            ],
            [
             0.5555555555555556,
             "#000016"
            ],
            [
             0.6666666666666666,
             "#000017"
            ],
            [
             0.7777777777777778,
             "#000018"
            ],
            [
             0.8888888888888888,
             "#000019"
            ],
            [
             1,
             "#000020"
            ]
           ]
          },
          "colorscale": {
           "diverging": [
            [
             0,
             "#000021"
            ],
            [
             0.1,
             "#000022"
            ],
            [
             0.2,
             "#000023"
            ],
            [
             0.3,
             "#000024"
            ],
            [
             0.4,
             "#000025"
            ],
            [
             0.5,
             "#000026"
            ],
            [
             0.6,
             "#000027"
            ],
            [
             0.7,
             "#000028"
            ],
            [
             0.8,
             "#000029"
            ],
            [
             0.9,
             "#000030"
            ],
            [
             1,
             "#000031"
            ]
           ],
           "sequential": [
            [
             0,
             "#000011"
            ],
            [
             0.1111111111111111,
             "#000012"
            ],
            [
             0.2222222222222222,
             "#000013"
            ],
            [
             0.3333333333333333,
             "#000014"
            ],
            [
             0.4444444444444444,
             "#000015"
            ],
            [
             0.5555555555555556,
             "#000016"
            ],
            [
             0.6666666666666666,
             "#000017"
            ],
            [
             0.7777777777777778,
             "#000018"
            ],
            [
             0.8888888888888888,
             "#000019"
            ],
            [
             1,
             "#000020"
            ]
           ],
           "sequentialminus": [
            [
             0,
             "#000011"
            ],
            [
             0.1111111111111111,
             "#000012"
            ],
            [
             0.2222222222222222,
             "#000013"
            ],
            [
             0.3333333333333333,
             "#000014"
            ],
            [
             0.4444444444444444,
             "#000015"
            ],
            [
             0.5555555555555556,
             "#000016"
            ],
            [
             0.6666666666666666,
             "#000017"
            ],
            [
             0.7777777777777778,
             "#000018"
            ],
            [
             0.8888888888888888,
             "#000019"
            ],
            [
             1,
             "#000020"
            ]
           ]
          },
          "colorway": [
           "#000001",
           "#000002",
           "#000003",
           "#000004",
           "#000005",
           "#000006",
           "#000007",
           "#000008",
           "#000009",
           "#000010"
          ]
         }
        },
        "title": {
         "text": "Average Days Listed by Condition"
        },
        "xaxis": {
         "anchor": "y",
         "domain": [
          0,
          1
         ],
         "title": {
          "text": "Vehicle Condition"
         }
        },
        "yaxis": {
         "anchor": "x",
         "domain": [
          0,
          1
         ],
         "title": {
          "text": "Days Listed"
         }
        }
       }
      }
     },
     "metadata": {},
     "output_type": "display_data"
    },
    {
     "data": {
      "application/vnd.plotly.v1+json": {
       "config": {
        "plotlyServerURL": "https://plot.ly"
       },
       "data": [
        {
         "hovertemplate": "Paint Color=%{x}<br>Days Listed=%{y}<extra></extra>",
         "legendgroup": "",
         "marker": {
          "color": "#ff0066",
          "line": {
           "color": "black",
           "width": 2.5
          },
          "size": 30,
          "symbol": "circle"
         },
         "mode": "markers",
         "name": "",
         "orientation": "v",
         "showlegend": false,
         "type": "scatter",
         "x": [
          "black",
          "blue",
          "brown",
          "custom",
          "green",
          "grey",
          "nan",
          "orange",
          "purple",
          "red",
          "silver",
          "white",
          "yellow"
         ],
         "xaxis": "x",
         "y": [
          39.72581903276131,
          40.20312849162011,
          40.54865085854456,
          38.637467476149176,
          40.0121776504298,
          39.38892197736748,
          39.376820977662675,
          38.98268398268398,
          40.01960784313726,
          39.5141370730604,
          39.27242152466368,
          39.49805563864792,
          39.8156862745098
         ],
         "yaxis": "y"
        }
       ],
       "layout": {
        "legend": {
         "tracegroupgap": 0
        },
        "template": {
         "data": {
          "candlestick": [
           {
            "decreasing": {
             "line": {
              "color": "#000033"
             }
            },
            "increasing": {
             "line": {
              "color": "#000032"
             }
            },
            "type": "candlestick"
           }
          ],
          "contour": [
           {
            "colorscale": [
             [
              0,
              "#000011"
             ],
             [
              0.1111111111111111,
              "#000012"
             ],
             [
              0.2222222222222222,
              "#000013"
             ],
             [
              0.3333333333333333,
              "#000014"
             ],
             [
              0.4444444444444444,
              "#000015"
             ],
             [
              0.5555555555555556,
              "#000016"
             ],
             [
              0.6666666666666666,
              "#000017"
             ],
             [
              0.7777777777777778,
              "#000018"
             ],
             [
              0.8888888888888888,
              "#000019"
             ],
             [
              1,
              "#000020"
             ]
            ],
            "type": "contour"
           }
          ],
          "contourcarpet": [
           {
            "colorscale": [
             [
              0,
              "#000011"
             ],
             [
              0.1111111111111111,
              "#000012"
             ],
             [
              0.2222222222222222,
              "#000013"
             ],
             [
              0.3333333333333333,
              "#000014"
             ],
             [
              0.4444444444444444,
              "#000015"
             ],
             [
              0.5555555555555556,
              "#000016"
             ],
             [
              0.6666666666666666,
              "#000017"
             ],
             [
              0.7777777777777778,
              "#000018"
             ],
             [
              0.8888888888888888,
              "#000019"
             ],
             [
              1,
              "#000020"
             ]
            ],
            "type": "contourcarpet"
           }
          ],
          "heatmap": [
           {
            "colorscale": [
             [
              0,
              "#000011"
             ],
             [
              0.1111111111111111,
              "#000012"
             ],
             [
              0.2222222222222222,
              "#000013"
             ],
             [
              0.3333333333333333,
              "#000014"
             ],
             [
              0.4444444444444444,
              "#000015"
             ],
             [
              0.5555555555555556,
              "#000016"
             ],
             [
              0.6666666666666666,
              "#000017"
             ],
             [
              0.7777777777777778,
              "#000018"
             ],
             [
              0.8888888888888888,
              "#000019"
             ],
             [
              1,
              "#000020"
             ]
            ],
            "type": "heatmap"
           }
          ],
          "histogram2d": [
           {
            "colorscale": [
             [
              0,
              "#000011"
             ],
             [
              0.1111111111111111,
              "#000012"
             ],
             [
              0.2222222222222222,
              "#000013"
             ],
             [
              0.3333333333333333,
              "#000014"
             ],
             [
              0.4444444444444444,
              "#000015"
             ],
             [
              0.5555555555555556,
              "#000016"
             ],
             [
              0.6666666666666666,
              "#000017"
             ],
             [
              0.7777777777777778,
              "#000018"
             ],
             [
              0.8888888888888888,
              "#000019"
             ],
             [
              1,
              "#000020"
             ]
            ],
            "type": "histogram2d"
           }
          ],
          "icicle": [
           {
            "textfont": {
             "color": "white"
            },
            "type": "icicle"
           }
          ],
          "sankey": [
           {
            "textfont": {
             "color": "#000036"
            },
            "type": "sankey"
           }
          ],
          "scatter": [
           {
            "marker": {
             "line": {
              "width": 0
             }
            },
            "type": "scatter"
           }
          ],
          "table": [
           {
            "cells": {
             "fill": {
              "color": "#000038"
             },
             "font": {
              "color": "#000037"
             },
             "line": {
              "color": "#000039"
             }
            },
            "header": {
             "fill": {
              "color": "#000040"
             },
             "font": {
              "color": "#000036"
             },
             "line": {
              "color": "#000039"
             }
            },
            "type": "table"
           }
          ],
          "waterfall": [
           {
            "connector": {
             "line": {
              "color": "#000036",
              "width": 2
             }
            },
            "decreasing": {
             "marker": {
              "color": "#000033"
             }
            },
            "increasing": {
             "marker": {
              "color": "#000032"
             }
            },
            "totals": {
             "marker": {
              "color": "#000034"
             }
            },
            "type": "waterfall"
           }
          ]
         },
         "layout": {
          "coloraxis": {
           "colorscale": [
            [
             0,
             "#000011"
            ],
            [
             0.1111111111111111,
             "#000012"
            ],
            [
             0.2222222222222222,
             "#000013"
            ],
            [
             0.3333333333333333,
             "#000014"
            ],
            [
             0.4444444444444444,
             "#000015"
            ],
            [
             0.5555555555555556,
             "#000016"
            ],
            [
             0.6666666666666666,
             "#000017"
            ],
            [
             0.7777777777777778,
             "#000018"
            ],
            [
             0.8888888888888888,
             "#000019"
            ],
            [
             1,
             "#000020"
            ]
           ]
          },
          "colorscale": {
           "diverging": [
            [
             0,
             "#000021"
            ],
            [
             0.1,
             "#000022"
            ],
            [
             0.2,
             "#000023"
            ],
            [
             0.3,
             "#000024"
            ],
            [
             0.4,
             "#000025"
            ],
            [
             0.5,
             "#000026"
            ],
            [
             0.6,
             "#000027"
            ],
            [
             0.7,
             "#000028"
            ],
            [
             0.8,
             "#000029"
            ],
            [
             0.9,
             "#000030"
            ],
            [
             1,
             "#000031"
            ]
           ],
           "sequential": [
            [
             0,
             "#000011"
            ],
            [
             0.1111111111111111,
             "#000012"
            ],
            [
             0.2222222222222222,
             "#000013"
            ],
            [
             0.3333333333333333,
             "#000014"
            ],
            [
             0.4444444444444444,
             "#000015"
            ],
            [
             0.5555555555555556,
             "#000016"
            ],
            [
             0.6666666666666666,
             "#000017"
            ],
            [
             0.7777777777777778,
             "#000018"
            ],
            [
             0.8888888888888888,
             "#000019"
            ],
            [
             1,
             "#000020"
            ]
           ],
           "sequentialminus": [
            [
             0,
             "#000011"
            ],
            [
             0.1111111111111111,
             "#000012"
            ],
            [
             0.2222222222222222,
             "#000013"
            ],
            [
             0.3333333333333333,
             "#000014"
            ],
            [
             0.4444444444444444,
             "#000015"
            ],
            [
             0.5555555555555556,
             "#000016"
            ],
            [
             0.6666666666666666,
             "#000017"
            ],
            [
             0.7777777777777778,
             "#000018"
            ],
            [
             0.8888888888888888,
             "#000019"
            ],
            [
             1,
             "#000020"
            ]
           ]
          },
          "colorway": [
           "#000001",
           "#000002",
           "#000003",
           "#000004",
           "#000005",
           "#000006",
           "#000007",
           "#000008",
           "#000009",
           "#000010"
          ]
         }
        },
        "title": {
         "text": "Average Days Listed by Paint Color"
        },
        "xaxis": {
         "anchor": "y",
         "domain": [
          0,
          1
         ],
         "title": {
          "text": "Paint Color"
         }
        },
        "yaxis": {
         "anchor": "x",
         "domain": [
          0,
          1
         ],
         "title": {
          "text": "Days Listed"
         }
        }
       }
      }
     },
     "metadata": {},
     "output_type": "display_data"
    },
    {
     "data": {
      "application/vnd.plotly.v1+json": {
       "config": {
        "plotlyServerURL": "https://plot.ly"
       },
       "data": [
        {
         "hovertemplate": "Vehicle Type=%{x}<br>Days Listed=%{y}<extra></extra>",
         "legendgroup": "",
         "marker": {
          "color": "#33ccff",
          "line": {
           "color": "black",
           "width": 2.5
          },
          "size": 30,
          "symbol": "circle"
         },
         "mode": "markers",
         "name": "",
         "orientation": "v",
         "showlegend": false,
         "type": "scatter",
         "x": [
          "SUV",
          "bus",
          "convertible",
          "coupe",
          "hatchback",
          "mini-van",
          "sedan",
          "truck",
          "van",
          "wagon"
         ],
         "xaxis": "x",
         "y": [
          39.79134638243918,
          43.5,
          39.19282511210762,
          39.358662613981764,
          40.53390639923591,
          39.39965546942291,
          39.42504525259174,
          39.36399358874929,
          40.695102685624015,
          40.56911096690461
         ],
         "yaxis": "y"
        }
       ],
       "layout": {
        "legend": {
         "tracegroupgap": 0
        },
        "template": {
         "data": {
          "candlestick": [
           {
            "decreasing": {
             "line": {
              "color": "#000033"
             }
            },
            "increasing": {
             "line": {
              "color": "#000032"
             }
            },
            "type": "candlestick"
           }
          ],
          "contour": [
           {
            "colorscale": [
             [
              0,
              "#000011"
             ],
             [
              0.1111111111111111,
              "#000012"
             ],
             [
              0.2222222222222222,
              "#000013"
             ],
             [
              0.3333333333333333,
              "#000014"
             ],
             [
              0.4444444444444444,
              "#000015"
             ],
             [
              0.5555555555555556,
              "#000016"
             ],
             [
              0.6666666666666666,
              "#000017"
             ],
             [
              0.7777777777777778,
              "#000018"
             ],
             [
              0.8888888888888888,
              "#000019"
             ],
             [
              1,
              "#000020"
             ]
            ],
            "type": "contour"
           }
          ],
          "contourcarpet": [
           {
            "colorscale": [
             [
              0,
              "#000011"
             ],
             [
              0.1111111111111111,
              "#000012"
             ],
             [
              0.2222222222222222,
              "#000013"
             ],
             [
              0.3333333333333333,
              "#000014"
             ],
             [
              0.4444444444444444,
              "#000015"
             ],
             [
              0.5555555555555556,
              "#000016"
             ],
             [
              0.6666666666666666,
              "#000017"
             ],
             [
              0.7777777777777778,
              "#000018"
             ],
             [
              0.8888888888888888,
              "#000019"
             ],
             [
              1,
              "#000020"
             ]
            ],
            "type": "contourcarpet"
           }
          ],
          "heatmap": [
           {
            "colorscale": [
             [
              0,
              "#000011"
             ],
             [
              0.1111111111111111,
              "#000012"
             ],
             [
              0.2222222222222222,
              "#000013"
             ],
             [
              0.3333333333333333,
              "#000014"
             ],
             [
              0.4444444444444444,
              "#000015"
             ],
             [
              0.5555555555555556,
              "#000016"
             ],
             [
              0.6666666666666666,
              "#000017"
             ],
             [
              0.7777777777777778,
              "#000018"
             ],
             [
              0.8888888888888888,
              "#000019"
             ],
             [
              1,
              "#000020"
             ]
            ],
            "type": "heatmap"
           }
          ],
          "histogram2d": [
           {
            "colorscale": [
             [
              0,
              "#000011"
             ],
             [
              0.1111111111111111,
              "#000012"
             ],
             [
              0.2222222222222222,
              "#000013"
             ],
             [
              0.3333333333333333,
              "#000014"
             ],
             [
              0.4444444444444444,
              "#000015"
             ],
             [
              0.5555555555555556,
              "#000016"
             ],
             [
              0.6666666666666666,
              "#000017"
             ],
             [
              0.7777777777777778,
              "#000018"
             ],
             [
              0.8888888888888888,
              "#000019"
             ],
             [
              1,
              "#000020"
             ]
            ],
            "type": "histogram2d"
           }
          ],
          "icicle": [
           {
            "textfont": {
             "color": "white"
            },
            "type": "icicle"
           }
          ],
          "sankey": [
           {
            "textfont": {
             "color": "#000036"
            },
            "type": "sankey"
           }
          ],
          "scatter": [
           {
            "marker": {
             "line": {
              "width": 0
             }
            },
            "type": "scatter"
           }
          ],
          "table": [
           {
            "cells": {
             "fill": {
              "color": "#000038"
             },
             "font": {
              "color": "#000037"
             },
             "line": {
              "color": "#000039"
             }
            },
            "header": {
             "fill": {
              "color": "#000040"
             },
             "font": {
              "color": "#000036"
             },
             "line": {
              "color": "#000039"
             }
            },
            "type": "table"
           }
          ],
          "waterfall": [
           {
            "connector": {
             "line": {
              "color": "#000036",
              "width": 2
             }
            },
            "decreasing": {
             "marker": {
              "color": "#000033"
             }
            },
            "increasing": {
             "marker": {
              "color": "#000032"
             }
            },
            "totals": {
             "marker": {
              "color": "#000034"
             }
            },
            "type": "waterfall"
           }
          ]
         },
         "layout": {
          "coloraxis": {
           "colorscale": [
            [
             0,
             "#000011"
            ],
            [
             0.1111111111111111,
             "#000012"
            ],
            [
             0.2222222222222222,
             "#000013"
            ],
            [
             0.3333333333333333,
             "#000014"
            ],
            [
             0.4444444444444444,
             "#000015"
            ],
            [
             0.5555555555555556,
             "#000016"
            ],
            [
             0.6666666666666666,
             "#000017"
            ],
            [
             0.7777777777777778,
             "#000018"
            ],
            [
             0.8888888888888888,
             "#000019"
            ],
            [
             1,
             "#000020"
            ]
           ]
          },
          "colorscale": {
           "diverging": [
            [
             0,
             "#000021"
            ],
            [
             0.1,
             "#000022"
            ],
            [
             0.2,
             "#000023"
            ],
            [
             0.3,
             "#000024"
            ],
            [
             0.4,
             "#000025"
            ],
            [
             0.5,
             "#000026"
            ],
            [
             0.6,
             "#000027"
            ],
            [
             0.7,
             "#000028"
            ],
            [
             0.8,
             "#000029"
            ],
            [
             0.9,
             "#000030"
            ],
            [
             1,
             "#000031"
            ]
           ],
           "sequential": [
            [
             0,
             "#000011"
            ],
            [
             0.1111111111111111,
             "#000012"
            ],
            [
             0.2222222222222222,
             "#000013"
            ],
            [
             0.3333333333333333,
             "#000014"
            ],
            [
             0.4444444444444444,
             "#000015"
            ],
            [
             0.5555555555555556,
             "#000016"
            ],
            [
             0.6666666666666666,
             "#000017"
            ],
            [
             0.7777777777777778,
             "#000018"
            ],
            [
             0.8888888888888888,
             "#000019"
            ],
            [
             1,
             "#000020"
            ]
           ],
           "sequentialminus": [
            [
             0,
             "#000011"
            ],
            [
             0.1111111111111111,
             "#000012"
            ],
            [
             0.2222222222222222,
             "#000013"
            ],
            [
             0.3333333333333333,
             "#000014"
            ],
            [
             0.4444444444444444,
             "#000015"
            ],
            [
             0.5555555555555556,
             "#000016"
            ],
            [
             0.6666666666666666,
             "#000017"
            ],
            [
             0.7777777777777778,
             "#000018"
            ],
            [
             0.8888888888888888,
             "#000019"
            ],
            [
             1,
             "#000020"
            ]
           ]
          },
          "colorway": [
           "#000001",
           "#000002",
           "#000003",
           "#000004",
           "#000005",
           "#000006",
           "#000007",
           "#000008",
           "#000009",
           "#000010"
          ]
         }
        },
        "title": {
         "text": "Average Days Listed by Vehicle Type"
        },
        "xaxis": {
         "anchor": "y",
         "domain": [
          0,
          1
         ],
         "title": {
          "text": "Vehicle Type"
         }
        },
        "yaxis": {
         "anchor": "x",
         "domain": [
          0,
          1
         ],
         "title": {
          "text": "Days Listed"
         }
        }
       }
      }
     },
     "metadata": {},
     "output_type": "display_data"
    },
    {
     "data": {
      "application/vnd.plotly.v1+json": {
       "config": {
        "plotlyServerURL": "https://plot.ly"
       },
       "data": [
        {
         "hovertemplate": "Model Year=%{x}<br>Days Listed=%{y}<extra></extra>",
         "legendgroup": "",
         "marker": {
          "color": "#8585e0",
          "line": {
           "color": "black",
           "width": 2.5
          },
          "size": 30,
          "symbol": "circle"
         },
         "mode": "markers",
         "name": "",
         "orientation": "v",
         "showlegend": false,
         "type": "scatter",
         "x": [
          1995,
          1996,
          1997,
          1998,
          1999,
          2000,
          2001,
          2002,
          2003,
          2004,
          2005,
          2006,
          2007,
          2008,
          2009,
          2010,
          2011,
          2012,
          2013,
          2014,
          2015,
          2016,
          2017,
          2018,
          2019
         ],
         "xaxis": "x",
         "y": [
          38.86413043478261,
          37.883597883597886,
          38.691131498470945,
          40.354497354497354,
          39.82051282051282,
          39.314527503526094,
          39.72899408284024,
          39.13596914175506,
          38.70494084899095,
          39.95005807200929,
          39.63407407407407,
          39.23410922112802,
          39.424517593643586,
          39.972298221614224,
          40.44829244829245,
          40.474916387959865,
          40.00207407407407,
          39.86216839677047,
          39.33558748943364,
          39.48143851508121,
          38.811315076737884,
          38.990182802979014,
          39.681686647374946,
          38.62197902416781,
          40.86842105263158
         ],
         "yaxis": "y"
        }
       ],
       "layout": {
        "legend": {
         "tracegroupgap": 0
        },
        "template": {
         "data": {
          "candlestick": [
           {
            "decreasing": {
             "line": {
              "color": "#000033"
             }
            },
            "increasing": {
             "line": {
              "color": "#000032"
             }
            },
            "type": "candlestick"
           }
          ],
          "contour": [
           {
            "colorscale": [
             [
              0,
              "#000011"
             ],
             [
              0.1111111111111111,
              "#000012"
             ],
             [
              0.2222222222222222,
              "#000013"
             ],
             [
              0.3333333333333333,
              "#000014"
             ],
             [
              0.4444444444444444,
              "#000015"
             ],
             [
              0.5555555555555556,
              "#000016"
             ],
             [
              0.6666666666666666,
              "#000017"
             ],
             [
              0.7777777777777778,
              "#000018"
             ],
             [
              0.8888888888888888,
              "#000019"
             ],
             [
              1,
              "#000020"
             ]
            ],
            "type": "contour"
           }
          ],
          "contourcarpet": [
           {
            "colorscale": [
             [
              0,
              "#000011"
             ],
             [
              0.1111111111111111,
              "#000012"
             ],
             [
              0.2222222222222222,
              "#000013"
             ],
             [
              0.3333333333333333,
              "#000014"
             ],
             [
              0.4444444444444444,
              "#000015"
             ],
             [
              0.5555555555555556,
              "#000016"
             ],
             [
              0.6666666666666666,
              "#000017"
             ],
             [
              0.7777777777777778,
              "#000018"
             ],
             [
              0.8888888888888888,
              "#000019"
             ],
             [
              1,
              "#000020"
             ]
            ],
            "type": "contourcarpet"
           }
          ],
          "heatmap": [
           {
            "colorscale": [
             [
              0,
              "#000011"
             ],
             [
              0.1111111111111111,
              "#000012"
             ],
             [
              0.2222222222222222,
              "#000013"
             ],
             [
              0.3333333333333333,
              "#000014"
             ],
             [
              0.4444444444444444,
              "#000015"
             ],
             [
              0.5555555555555556,
              "#000016"
             ],
             [
              0.6666666666666666,
              "#000017"
             ],
             [
              0.7777777777777778,
              "#000018"
             ],
             [
              0.8888888888888888,
              "#000019"
             ],
             [
              1,
              "#000020"
             ]
            ],
            "type": "heatmap"
           }
          ],
          "histogram2d": [
           {
            "colorscale": [
             [
              0,
              "#000011"
             ],
             [
              0.1111111111111111,
              "#000012"
             ],
             [
              0.2222222222222222,
              "#000013"
             ],
             [
              0.3333333333333333,
              "#000014"
             ],
             [
              0.4444444444444444,
              "#000015"
             ],
             [
              0.5555555555555556,
              "#000016"
             ],
             [
              0.6666666666666666,
              "#000017"
             ],
             [
              0.7777777777777778,
              "#000018"
             ],
             [
              0.8888888888888888,
              "#000019"
             ],
             [
              1,
              "#000020"
             ]
            ],
            "type": "histogram2d"
           }
          ],
          "icicle": [
           {
            "textfont": {
             "color": "white"
            },
            "type": "icicle"
           }
          ],
          "sankey": [
           {
            "textfont": {
             "color": "#000036"
            },
            "type": "sankey"
           }
          ],
          "scatter": [
           {
            "marker": {
             "line": {
              "width": 0
             }
            },
            "type": "scatter"
           }
          ],
          "table": [
           {
            "cells": {
             "fill": {
              "color": "#000038"
             },
             "font": {
              "color": "#000037"
             },
             "line": {
              "color": "#000039"
             }
            },
            "header": {
             "fill": {
              "color": "#000040"
             },
             "font": {
              "color": "#000036"
             },
             "line": {
              "color": "#000039"
             }
            },
            "type": "table"
           }
          ],
          "waterfall": [
           {
            "connector": {
             "line": {
              "color": "#000036",
              "width": 2
             }
            },
            "decreasing": {
             "marker": {
              "color": "#000033"
             }
            },
            "increasing": {
             "marker": {
              "color": "#000032"
             }
            },
            "totals": {
             "marker": {
              "color": "#000034"
             }
            },
            "type": "waterfall"
           }
          ]
         },
         "layout": {
          "coloraxis": {
           "colorscale": [
            [
             0,
             "#000011"
            ],
            [
             0.1111111111111111,
             "#000012"
            ],
            [
             0.2222222222222222,
             "#000013"
            ],
            [
             0.3333333333333333,
             "#000014"
            ],
            [
             0.4444444444444444,
             "#000015"
            ],
            [
             0.5555555555555556,
             "#000016"
            ],
            [
             0.6666666666666666,
             "#000017"
            ],
            [
             0.7777777777777778,
             "#000018"
            ],
            [
             0.8888888888888888,
             "#000019"
            ],
            [
             1,
             "#000020"
            ]
           ]
          },
          "colorscale": {
           "diverging": [
            [
             0,
             "#000021"
            ],
            [
             0.1,
             "#000022"
            ],
            [
             0.2,
             "#000023"
            ],
            [
             0.3,
             "#000024"
            ],
            [
             0.4,
             "#000025"
            ],
            [
             0.5,
             "#000026"
            ],
            [
             0.6,
             "#000027"
            ],
            [
             0.7,
             "#000028"
            ],
            [
             0.8,
             "#000029"
            ],
            [
             0.9,
             "#000030"
            ],
            [
             1,
             "#000031"
            ]
           ],
           "sequential": [
            [
             0,
             "#000011"
            ],
            [
             0.1111111111111111,
             "#000012"
            ],
            [
             0.2222222222222222,
             "#000013"
            ],
            [
             0.3333333333333333,
             "#000014"
            ],
            [
             0.4444444444444444,
             "#000015"
            ],
            [
             0.5555555555555556,
             "#000016"
            ],
            [
             0.6666666666666666,
             "#000017"
            ],
            [
             0.7777777777777778,
             "#000018"
            ],
            [
             0.8888888888888888,
             "#000019"
            ],
            [
             1,
             "#000020"
            ]
           ],
           "sequentialminus": [
            [
             0,
             "#000011"
            ],
            [
             0.1111111111111111,
             "#000012"
            ],
            [
             0.2222222222222222,
             "#000013"
            ],
            [
             0.3333333333333333,
             "#000014"
            ],
            [
             0.4444444444444444,
             "#000015"
            ],
            [
             0.5555555555555556,
             "#000016"
            ],
            [
             0.6666666666666666,
             "#000017"
            ],
            [
             0.7777777777777778,
             "#000018"
            ],
            [
             0.8888888888888888,
             "#000019"
            ],
            [
             1,
             "#000020"
            ]
           ]
          },
          "colorway": [
           "#000001",
           "#000002",
           "#000003",
           "#000004",
           "#000005",
           "#000006",
           "#000007",
           "#000008",
           "#000009",
           "#000010"
          ]
         }
        },
        "title": {
         "text": "Average Days Listed by Model Year"
        },
        "xaxis": {
         "anchor": "y",
         "domain": [
          0,
          1
         ],
         "title": {
          "text": "Model Year"
         }
        },
        "yaxis": {
         "anchor": "x",
         "domain": [
          0,
          1
         ],
         "title": {
          "text": "Days Listed"
         }
        }
       }
      }
     },
     "metadata": {},
     "output_type": "display_data"
    }
   ],
   "source": [
    "# average days listed by type\n",
    "avg_days_listed_type = df.groupby('type')['days_listed'].mean().reset_index()\n",
    "avg_days_listed_type = avg_days_listed_type[avg_days_listed_type['type'] != 'other']\n",
    "# average days listed by model year\n",
    "avg_year_days = df.groupby('model_year')['days_listed'].mean().reset_index()\n",
    "avg_year_days = avg_year_days.sort_values(by='days_listed', ascending=False)\n",
    "avg_days_listed_year = avg_year_days.groupby('model_year')['days_listed'].mean().reset_index()\n",
    "avg_days_listed_year = avg_days_listed_year[(avg_days_listed_year['model_year'] <= 2020) & (avg_days_listed_year['model_year'] >= 1995)]\n",
    "\n",
    "# average days listed by color\n",
    "avg_days_listed_color = df.groupby('paint_color')['days_listed'].mean().reset_index()\n",
    "\n",
    "# average days listed by condition\n",
    "avg_days_listed_condition = df.groupby('condition')['days_listed'].mean().reset_index()\n",
    "\n",
    "# create scatter plots\n",
    "fig1 = pl.scatter(avg_days_listed_type, x='type', y='days_listed', title='Average Days Listed by Vehicle Type', labels={'days_listed': 'Days Listed', 'type': 'Vehicle Type'})\n",
    "fig1.update_traces(marker=dict(size=30, color='#33ccff'))\n",
    "fig1.update_traces(marker_line_color='black', marker_line_width=2.5)\n",
    "\n",
    "fig2 = pl.scatter(avg_days_listed_year, x='model_year', y='days_listed', title='Average Days Listed by Model Year', labels={'days_listed': 'Days Listed', 'model_year': 'Model Year'})\n",
    "fig2.update_traces(marker=dict(size=30, color='#8585e0'))\n",
    "fig2.update_traces(marker_line_color='black', marker_line_width=2.5)\n",
    "\n",
    "fig3 = pl.scatter(avg_days_listed_color, x='paint_color', y='days_listed', title='Average Days Listed by Paint Color', labels={'days_listed': 'Days Listed', 'paint_color': 'Paint Color'})\n",
    "fig3.update_traces(marker=dict(size=30, color='#ff0066', line=dict(color='black', width=2.5)))\n",
    "\n",
    "# Create scatter plot for average days listed by condition\n",
    "fig4 = pl.scatter(avg_days_listed_condition, x='condition', y='days_listed', title='Average Days Listed by Condition', labels={'days_listed': 'Days Listed', 'condition': 'Vehicle Condition'})\n",
    "fig4.update_traces(marker=dict(size=30, color= '#ffff00', line=dict(color='black', width=2.5)))\n",
    "\n",
    "fig4.show()\n",
    "fig3.show()\n",
    "fig1.show()\n",
    "fig2.show()\n",
    "\n"
   ]
  },
  {
   "cell_type": "code",
   "execution_count": 8,
   "metadata": {},
   "outputs": [
    {
     "data": {
      "application/vnd.plotly.v1+json": {
       "config": {
        "plotlyServerURL": "https://plot.ly"
       },
       "data": [
        {
         "alignmentgroup": "True",
         "bingroup": "x",
         "hovertemplate": "Average Days Listed=%{x}<br>count=%{y}<extra></extra>",
         "legendgroup": "",
         "marker": {
          "color": "#8585e0",
          "line": {
           "color": "black",
           "width": 1.5
          },
          "pattern": {
           "shape": ""
          }
         },
         "name": "",
         "nbinsx": 30,
         "offsetgroup": "",
         "orientation": "v",
         "showlegend": false,
         "type": "histogram",
         "x": [
          38.90852130325815,
          22,
          5,
          53,
          12,
          29,
          25,
          25.666666666666668,
          7,
          44,
          38,
          46,
          58.5,
          54.666666666666664,
          2,
          36.14705882352941,
          43,
          24,
          40,
          27,
          5,
          19,
          52,
          15.5,
          32.666666666666664,
          35,
          15.75,
          43,
          18,
          30.333333333333332,
          35.666666666666664,
          44.4,
          49.4,
          39.333333333333336,
          36.666666666666664,
          43.666666666666664,
          55.5,
          15.333333333333334,
          45.5,
          32.666666666666664,
          45.25,
          22,
          39.666666666666664,
          32.5,
          38.4,
          44,
          53,
          20,
          32.833333333333336,
          22.333333333333332,
          15.666666666666666,
          39.666666666666664,
          36.75,
          23.5,
          35.333333333333336,
          9,
          20.5,
          44.588235294117645,
          20,
          41.5,
          15,
          23,
          56,
          11,
          43.5,
          28,
          21,
          36,
          24.333333333333332,
          33.5,
          54,
          25,
          29.6,
          56,
          44,
          21.5,
          23,
          36.25,
          37.29113924050633,
          54,
          5,
          28,
          10,
          52,
          37.19230769230769,
          33.2,
          41,
          5,
          47.25714285714286,
          46.96551724137931,
          35.1,
          40.79245283018868,
          27.181818181818183,
          39,
          33,
          35,
          27,
          38.77777777777778,
          41.375,
          46.5,
          36.470588235294116,
          28,
          37.76282051282051,
          29,
          12,
          47,
          49.285714285714285,
          49,
          30.333333333333332,
          39,
          41,
          47.5,
          43.74311926605505,
          45.333333333333336,
          39.18181818181818,
          42,
          53,
          44,
          35.25,
          41.2,
          24.77777777777778,
          52.875,
          32.5,
          18,
          53,
          31,
          16.666666666666668,
          19,
          42.785714285714285,
          46.666666666666664,
          39.59109311740891,
          13,
          17,
          33.5,
          43.9375,
          29.666666666666668,
          42.5,
          39,
          26.5,
          31.333333333333332,
          38.43478260869565,
          36.41379310344828,
          56.333333333333336,
          23,
          49,
          37.34074074074074,
          35.16216216216216,
          32.5,
          33,
          34.5,
          53,
          28,
          19,
          21.333333333333332,
          37.175,
          11,
          36.74074074074074,
          13.25,
          9,
          23,
          38.5,
          35.25757575757576,
          53,
          10,
          36.72,
          36.763888888888886,
          31,
          29.428571428571427,
          33.142857142857146,
          22.857142857142858,
          45,
          49.333333333333336,
          36.75,
          42.027272727272724,
          28,
          39.23684210526316,
          60,
          32.22222222222222,
          50,
          21.75,
          33.75757575757576,
          38,
          32.666666666666664,
          28.666666666666668,
          40,
          42.4,
          30.333333333333332,
          39.55,
          39.96875,
          24,
          23,
          20,
          21,
          25,
          55,
          37.55769230769231,
          46.25,
          26,
          34.84444444444444,
          40.87394957983193,
          20.5,
          48,
          19,
          54,
          42,
          53.5,
          44.81521739130435,
          34.435483870967744,
          40.5,
          21.5,
          49,
          59,
          52.05714285714286,
          37.714285714285715,
          40.050632911392405,
          14,
          29,
          25.5,
          31.786666666666665,
          24,
          31,
          47,
          44,
          31.333333333333332,
          45.375,
          34.18787878787879,
          40.146341463414636,
          50.5,
          51.5,
          25.5,
          47.72,
          39,
          52,
          42,
          25,
          44.287234042553195,
          35.8,
          44,
          50,
          31.666666666666668,
          10,
          41.24187725631769,
          42,
          36,
          42.40845070422535,
          38.78431372549019,
          32,
          56,
          50,
          42.21621621621622,
          9,
          35.8125,
          34,
          45,
          24.615384615384617,
          30,
          42.858695652173914,
          13,
          43.5,
          43.18333333333333,
          12.5,
          19,
          50,
          38.92,
          13,
          37.333333333333336,
          35.98979591836735,
          33.5,
          44.76470588235294,
          51,
          31.5,
          27,
          38.75949367088607,
          13,
          38.644444444444446,
          47,
          38.75,
          56,
          34,
          13,
          53,
          24,
          37.716981132075475,
          54,
          29.142857142857142,
          45.94285714285714,
          41.8741935483871,
          32,
          32.333333333333336,
          7,
          5,
          42.333333333333336,
          33,
          54.857142857142854,
          36.31395348837209,
          29,
          19.5,
          48.52272727272727,
          36.1,
          18,
          41.625,
          48,
          30.5,
          37.3125,
          35,
          13,
          39.56521739130435,
          9,
          2,
          48,
          34,
          23.5,
          43.5,
          42.52,
          36,
          44.75,
          39.53694581280788,
          36,
          38.355932203389834,
          39,
          35,
          40.4,
          35.64,
          29.666666666666668,
          39.1522633744856,
          14.5,
          46,
          24,
          43.44166666666667,
          40.5,
          52,
          26.5,
          20,
          32.5,
          26,
          36.666666666666664,
          41,
          33,
          31.666666666666668,
          44,
          39.69140625,
          16,
          41.38461538461539,
          39.765151515151516,
          40.967032967032964,
          29,
          35.611111111111114,
          49.4,
          23.818181818181817,
          41.5,
          20.5,
          44.42857142857143,
          41.01744186046512,
          20.5,
          34.03658536585366,
          33,
          17,
          42.166666666666664,
          45.43478260869565,
          39.27272727272727,
          37.989010989010985,
          54,
          28,
          40.526315789473685,
          57,
          6,
          53,
          42.27272727272727,
          40.888888888888886,
          20,
          42.77777777777778,
          45.5,
          40.18181818181818,
          50.72727272727273,
          36,
          40.00763358778626,
          42.72727272727273,
          46.9,
          40.575,
          37.453947368421055,
          49.333333333333336,
          54,
          39.666666666666664,
          31.333333333333332,
          37.23076923076923,
          29,
          16,
          40.666666666666664,
          44.95238095238095,
          10,
          38.244897959183675,
          42,
          40.666666666666664,
          18,
          32.57692307692308,
          44,
          37.88659793814433,
          25,
          17,
          20.5,
          44.32394366197183,
          47,
          14.75,
          17,
          38,
          54,
          3,
          34.7,
          31.77777777777778,
          40.559322033898304,
          30,
          33,
          32.06666666666667,
          28,
          28.5,
          21,
          35.333333333333336,
          47.473684210526315,
          56.5,
          37.921052631578945,
          6.5,
          49,
          46.5,
          41.99300699300699,
          29,
          40,
          41.666666666666664,
          50,
          13,
          40.625,
          11,
          29,
          20.666666666666668,
          50,
          38.083333333333336,
          56,
          41.64102564102564,
          5,
          25.25,
          40.02403846153846,
          49.8,
          35.5,
          32.22222222222222,
          39.53333333333333,
          37.92731829573935,
          39,
          29.61111111111111,
          15.5,
          23.5,
          51,
          50.75,
          45.145161290322584,
          34,
          49,
          31.4390243902439,
          34,
          41.5,
          15,
          37.806451612903224,
          48,
          39.18181818181818,
          35.082352941176474,
          23,
          13,
          39.42857142857143,
          41,
          34.25,
          44,
          39,
          46.166666666666664,
          36.285714285714285,
          39.1875,
          19.5,
          10,
          35.75,
          41.48936170212766,
          24,
          32,
          52,
          26,
          39.55,
          46.5,
          40.87570621468927,
          47.333333333333336,
          31.666666666666668,
          39.0260162601626,
          40.166666666666664,
          31,
          15.5,
          6,
          21.5,
          34.1,
          30.2,
          42.534246575342465,
          41.5,
          36,
          18,
          21,
          22,
          39.130434782608695,
          46.2,
          37,
          22.333333333333332,
          32.55555555555556,
          37.53030303030303,
          47.666666666666664,
          13.666666666666666,
          24,
          17,
          36,
          45,
          42.888888888888886,
          27,
          7,
          51.666666666666664,
          25.666666666666668,
          14,
          50,
          22,
          45,
          45.1578947368421,
          52.333333333333336,
          36.5735294117647,
          50,
          43,
          43.03846153846154,
          30,
          31.666666666666668,
          39,
          44.4,
          38.666666666666664,
          24,
          39.7,
          48.07142857142857,
          35.329032258064515,
          56.5,
          44.75,
          29,
          38.4,
          10,
          42.82089552238806,
          31.375,
          30,
          23.4,
          19,
          40.5,
          17,
          36.23529411764706,
          37.86021505376344,
          19.5,
          31.5,
          41.98320610687023,
          41.69230769230769,
          37.57142857142857,
          40.125,
          42.25,
          47,
          9,
          45.92307692307692,
          20,
          44.333333333333336,
          41,
          19,
          45,
          20,
          39.8021978021978,
          37,
          40.48,
          57,
          36.333333333333336,
          34,
          31.470588235294116,
          38.64705882352941,
          36.82432432432432,
          36,
          55,
          50,
          47.92857142857143,
          14,
          42,
          13,
          38.166666666666664,
          38.77777777777778,
          31.228571428571428,
          31,
          23.5,
          55,
          7,
          32,
          37.7536231884058,
          40,
          27,
          15,
          29,
          57,
          18,
          48.44444444444444,
          38.79761904761905,
          26,
          38.88235294117647,
          38.96969696969697,
          53,
          56,
          44,
          6,
          28.88888888888889,
          24,
          6,
          17,
          17,
          29,
          29.5,
          41,
          28.6,
          40,
          38,
          59.5,
          42.80392156862745,
          40.72727272727273,
          29.5,
          51,
          52.6,
          18.5,
          34.18181818181818,
          25.88888888888889,
          37.391304347826086,
          33,
          36.95238095238095,
          11,
          8,
          36,
          23,
          15,
          41.42857142857143,
          48.42857142857143,
          15,
          57,
          37.368,
          32,
          43.6875,
          7,
          10,
          27,
          42.75,
          25,
          21,
          48.5,
          49,
          37,
          40.6188679245283,
          49,
          22.5,
          38,
          16,
          35,
          40,
          37.547770700636946,
          57,
          14,
          52.3,
          45.9,
          52.375,
          39.728813559322035,
          40,
          40.333333333333336,
          38.09596662030598,
          11,
          33.625,
          42.6,
          36.1985294117647,
          41.486363636363635,
          32.526315789473685,
          25,
          12,
          39.333333333333336,
          39.602409638554214,
          51,
          52,
          36,
          31.5,
          47.785714285714285,
          36,
          31.75,
          41.111111111111114,
          47.09090909090909,
          37.577777777777776,
          34,
          55.4,
          6,
          12,
          31,
          36.333333333333336,
          36.4,
          48,
          40,
          23.4,
          37.98,
          25,
          38.13157894736842,
          20,
          35,
          48.25,
          42,
          44,
          50,
          15.6,
          52.21052631578947,
          35,
          38.29545454545455,
          37,
          35.333333333333336,
          44.609756097560975,
          38.385749385749385,
          18,
          44.714285714285715,
          26.666666666666668,
          16,
          31,
          32,
          36.333333333333336,
          29.666666666666668,
          32.15,
          37.55,
          14,
          35,
          24,
          16,
          28.5,
          50.3,
          53.333333333333336,
          35.25,
          34.4390243902439,
          13,
          50,
          34.4,
          39,
          22,
          46.142857142857146,
          33,
          31.666666666666668,
          37,
          44.333333333333336,
          39.0625,
          6,
          26,
          50,
          8,
          31.5,
          24,
          28.25,
          33.333333333333336,
          15,
          34.857142857142854,
          20,
          41.333333333333336,
          39.1578947368421,
          37.8,
          41,
          41.8,
          37.142857142857146,
          1,
          31,
          15,
          40.78632478632478,
          28,
          13,
          27.5,
          9,
          44,
          43.5,
          20,
          41.13333333333333,
          29,
          44.22784810126582,
          30.75,
          27,
          51,
          39.84902597402598,
          38.57142857142857,
          46.81818181818182,
          36.258278145695364,
          38.57674418604651,
          12,
          10,
          9,
          51.666666666666664,
          49.333333333333336,
          51,
          43.21739130434783,
          53,
          13,
          59,
          47,
          12,
          16,
          40.5,
          37.25,
          38.285714285714285,
          37.78260869565217,
          19,
          36.5,
          32.5,
          42,
          49.333333333333336,
          24.25,
          47.285714285714285,
          30,
          40.02564102564103,
          20,
          53.333333333333336,
          29,
          36,
          56.3,
          59.333333333333336,
          58,
          29.666666666666668,
          13,
          34.8,
          43.42857142857143,
          32.06818181818182,
          21,
          20,
          42,
          30,
          4,
          45,
          38.549019607843135,
          48,
          34,
          25,
          57,
          34,
          7.5,
          15,
          42.166666666666664,
          34.5,
          45.46969696969697,
          50.25,
          32.333333333333336,
          34.75925925925926,
          36.74009900990099,
          42.25,
          9,
          39.5,
          19,
          45.35294117647059,
          34.5,
          29,
          46.75,
          37.15625,
          25,
          39,
          37.63636363636363,
          36,
          55,
          30,
          35,
          21,
          44,
          50.5,
          33.333333333333336,
          43.285714285714285,
          17,
          45.833333333333336,
          44.348837209302324,
          35,
          45,
          44.8,
          37.34375,
          32,
          40,
          28.25,
          51,
          6,
          54.666666666666664,
          34,
          45.21052631578947,
          22,
          34.111111111111114,
          42.36666666666667,
          20,
          45,
          34.578947368421055,
          20,
          50,
          41.25,
          5,
          32.333333333333336,
          5,
          31.4,
          37.333333333333336,
          32.333333333333336,
          41.616379310344826,
          30,
          37,
          27,
          24.8,
          50.666666666666664,
          40.91743119266055,
          53,
          34,
          12,
          37.857142857142854,
          36.25,
          10,
          44.75,
          21.5,
          37.5,
          36.95522388059702,
          32,
          34,
          39.833333333333336,
          38.65391621129326,
          32.64705882352941,
          42.892857142857146,
          38.675,
          43.7,
          2,
          28,
          45,
          6,
          24,
          16,
          1,
          53,
          37.91891891891892,
          40,
          48,
          37,
          47.04347826086956,
          26,
          11,
          30.545454545454547,
          58.25,
          34.48,
          23,
          8,
          39,
          36,
          16,
          54,
          25,
          43,
          16,
          43.6,
          28.818181818181817,
          32.94285714285714,
          28,
          17.5,
          36.3448275862069,
          34,
          42,
          24,
          38.888888888888886,
          4,
          34.55294117647059,
          28,
          35.294117647058826,
          41.25337837837838,
          37.333333333333336,
          16,
          23.333333333333332,
          52,
          22.5,
          36.65,
          8,
          36.785714285714285,
          35,
          32,
          39.5,
          51,
          36.375,
          39.07692307692308,
          5,
          40.166666666666664,
          51,
          39.833333333333336,
          20.333333333333332,
          34.666666666666664,
          39.875,
          51.625,
          39.2625,
          36.333333333333336,
          4,
          43.96969696969697,
          48.5,
          57,
          31.285714285714285,
          36.5,
          43.666666666666664,
          23,
          49.4,
          12,
          45.8,
          40.05978260869565,
          14,
          41.166666666666664,
          32.5,
          26,
          11,
          40.162962962962965,
          24.5,
          23,
          27.083333333333332,
          27.2,
          43.5,
          53,
          50.46153846153846,
          34.5,
          48.8235294117647,
          43,
          42.30263157894737,
          36.5,
          33,
          37.5,
          22,
          40.5,
          31.12,
          28.636363636363637,
          36.01898734177215,
          39.93370165745856,
          50,
          27,
          26,
          27,
          38,
          37,
          11,
          39.77777777777778,
          17.5,
          23.25,
          42.333333333333336,
          47.8421052631579,
          32.5,
          27,
          32,
          28,
          18,
          34,
          37.1,
          16,
          18,
          37,
          36,
          31,
          15,
          36.7,
          40.78294573643411,
          28.5,
          34.5,
          57.5,
          36.75,
          20,
          21,
          24,
          31.428571428571427,
          25,
          41.75,
          20,
          34.666666666666664,
          40,
          18,
          37.86363636363637,
          18,
          51,
          36,
          33.8,
          6,
          2,
          41.666666666666664,
          24,
          45.5,
          57.8,
          38.5,
          25.333333333333332,
          35.81666666666667,
          24.625,
          29,
          40,
          30.2,
          38,
          57,
          22,
          49,
          55.888888888888886,
          4,
          56,
          33.375,
          23,
          20,
          42.12328767123287,
          45.666666666666664,
          25,
          39,
          33.5,
          52.5,
          49.5,
          37,
          17,
          59,
          59,
          45.9375,
          31.6,
          8,
          36,
          33.333333333333336,
          43.246753246753244,
          24.2,
          57,
          39.375621890547265,
          39,
          34.18181818181818,
          24.75,
          38.69230769230769,
          40.22222222222222,
          16,
          21,
          35.5,
          23,
          17,
          29,
          35,
          44,
          38.583333333333336,
          42.09090909090909,
          39,
          19,
          16,
          24,
          33,
          50.588235294117645,
          24.5,
          14,
          1,
          47,
          32,
          38.5,
          45.76,
          40,
          21.333333333333332,
          29.5,
          42.5,
          32.333333333333336,
          39.46376811594203,
          26.5,
          46.47826086956522,
          40.90987124463519,
          57,
          46,
          11,
          21,
          18.666666666666668,
          33,
          44,
          42,
          52.125,
          43,
          57.55555555555556,
          17,
          46,
          17,
          21,
          37.5,
          39,
          26,
          32,
          42.44444444444444,
          44.90909090909091,
          46.5,
          32.4,
          10,
          25.666666666666668,
          36.285714285714285,
          41,
          12,
          38,
          25.666666666666668,
          33,
          40,
          40.142857142857146,
          28.857142857142858,
          35.8448275862069,
          42.888888888888886,
          37,
          22.5,
          3,
          49,
          39.111111111111114,
          39,
          32.75,
          23,
          44.5,
          37.35960591133005,
          51.25,
          51,
          40.5,
          6,
          53.95,
          33,
          19,
          7,
          39.35,
          22.25,
          42.97142857142857,
          39.666666666666664,
          54.333333333333336,
          40.90415335463259,
          22,
          33.95238095238095,
          19.333333333333332,
          40.772277227722775,
          36.420212765957444,
          18,
          57.4,
          5,
          10,
          21.5,
          6,
          46.6,
          31,
          22.5,
          45.22222222222222,
          12,
          47.666666666666664,
          34.22222222222222,
          26,
          35,
          55.5,
          5,
          5,
          49.5,
          42.27272727272727,
          26,
          40,
          40.916666666666664,
          24,
          40.25,
          36.5,
          34.05769230769231,
          44.142857142857146,
          32.8125,
          39.83216783216783,
          20,
          39,
          18,
          47,
          20,
          46.2,
          33,
          53.25,
          34.75,
          34.84615384615385,
          9,
          17,
          11,
          35.25,
          22,
          28,
          37,
          1,
          33.7,
          54,
          29,
          21,
          45.5,
          21,
          46.5,
          20,
          19,
          17,
          43,
          56.5,
          21,
          23,
          19,
          32.666666666666664,
          41.15909090909091,
          48,
          19.625,
          14,
          7,
          38.5,
          31.75,
          37,
          10,
          43.32183908045977,
          53.625,
          40.714285714285715,
          40,
          38.859154929577464,
          52,
          26,
          49,
          42,
          13,
          34,
          48.09090909090909,
          33,
          49.1,
          42,
          48.875,
          41,
          42.813559322033896,
          24.5,
          31.5,
          42.9572192513369,
          35.5,
          39.8,
          52.833333333333336,
          41.457142857142856,
          41.25925925925926,
          52,
          43.2,
          36.666666666666664,
          43.63636363636363,
          13,
          37.642857142857146,
          38,
          25,
          50.76,
          33,
          22,
          55,
          42.875,
          30,
          48.111111111111114,
          19,
          12,
          16,
          17,
          42,
          39,
          47,
          39.285714285714285,
          41,
          21,
          44,
          29.58823529411765,
          27,
          36.83870967741935,
          19,
          43.63265306122449,
          33,
          33.54545454545455,
          41.62926829268293,
          37,
          10.5,
          54.666666666666664,
          36.5,
          36.25,
          50,
          26.5,
          18,
          45.333333333333336,
          32.875,
          41,
          32.61538461538461,
          31.63157894736842,
          27,
          15,
          40,
          5,
          25,
          41,
          53.666666666666664,
          38.7,
          30,
          49.6,
          25,
          12,
          35.142857142857146,
          34.333333333333336,
          2,
          3,
          29.333333333333332,
          21.5,
          38.25,
          40.901041666666664,
          42.4,
          40.25,
          29.5,
          7,
          27.5,
          41,
          38.49315068493151,
          48,
          24,
          49,
          31,
          36.5,
          19,
          40.5,
          44.77777777777778,
          40.54639175257732,
          35.75,
          18,
          40.67024128686327,
          49.666666666666664,
          49.833333333333336,
          41.333333333333336,
          41.95522388059702,
          40.41860465116279,
          53.666666666666664,
          24,
          30.7,
          47.5,
          44.75,
          18,
          33.5,
          6,
          47,
          42,
          33,
          55.5,
          47.666666666666664,
          9,
          28,
          11,
          8,
          44.5,
          52,
          39.4,
          40.75,
          28,
          44,
          51,
          53.5,
          10.5,
          37.03703703703704,
          34.05,
          40.5,
          33.4375,
          38.58454106280193,
          29,
          51.5,
          45,
          40.714285714285715,
          33.25,
          27,
          38.266666666666666,
          14,
          5,
          39,
          20,
          20,
          15,
          30.333333333333332,
          41.9,
          15.5,
          39.875,
          51,
          47,
          60,
          37.75,
          34,
          33,
          21.75,
          38.25,
          26.25,
          33.25,
          46.68,
          6,
          43.5,
          46.75,
          33,
          35.833333333333336,
          41.25,
          27.666666666666668,
          30.25,
          42.54022988505747,
          48.25,
          2,
          25,
          32,
          43.311688311688314,
          45,
          34.5,
          32,
          51,
          24.25,
          41.142857142857146,
          14,
          20,
          34,
          36.333333333333336,
          35.417582417582416,
          47.77777777777778,
          5,
          47,
          37.796728971962615,
          37.5,
          38.166666666666664,
          37.6625,
          38.5945945945946,
          42,
          14.5,
          56,
          47,
          57,
          11,
          39.8,
          38.1578947368421,
          29.666666666666668,
          36,
          39,
          53,
          55,
          37,
          42,
          47.625,
          21,
          12,
          14.333333333333334,
          2,
          28.666666666666668,
          24.6,
          24,
          40.19047619047619,
          34.77777777777778,
          33.53333333333333,
          40.802721088435376,
          21,
          37,
          46,
          53,
          30,
          21.6,
          41,
          51.888888888888886,
          22,
          28.333333333333332,
          29,
          39,
          18,
          22,
          47.31818181818182,
          19,
          26.384615384615383,
          59.5,
          41,
          19,
          35.03448275862069,
          32,
          3,
          13,
          7,
          13,
          44.333333333333336,
          36.9,
          14,
          26.5,
          41.93333333333333,
          39.333333333333336,
          47,
          11,
          20,
          12,
          38.294117647058826,
          33,
          27,
          51,
          14,
          32,
          46.53846153846154,
          7,
          53.714285714285715,
          39.63636363636363,
          10.5,
          39.625,
          22,
          39.98675496688742,
          30.142857142857142,
          38.638888888888886,
          43.083333333333336,
          40.18811881188119,
          47,
          17.5,
          32,
          18,
          28,
          32,
          54.57142857142857,
          35.111111111111114,
          40,
          34.833333333333336,
          23,
          45,
          20,
          50,
          32.5,
          22,
          26,
          30.6,
          24,
          29,
          37,
          43,
          6,
          31.846153846153847,
          38.666666666666664,
          48,
          41.75,
          7,
          33.5,
          22,
          45,
          49,
          14,
          30.444444444444443,
          54.55555555555556,
          46.333333333333336,
          36.666666666666664,
          38.19774011299435,
          52,
          39.77777777777778,
          37.2,
          41.5,
          55,
          6,
          40.5,
          23.5,
          34,
          30,
          28.5,
          37.714285714285715,
          47,
          39.5,
          10.666666666666666,
          51,
          9.5,
          34.857142857142854,
          30.666666666666668,
          41.111111111111114,
          41,
          26,
          52,
          50,
          50,
          10,
          48.5,
          24,
          45.977653631284916,
          56.8,
          29.790697674418606,
          34.333333333333336,
          24.25,
          33.57142857142857,
          46.27272727272727,
          42.5,
          39.45569620253165,
          44,
          39.14229249011858,
          54.625,
          36.04347826086956,
          38.79220779220779,
          43.795918367346935,
          22.2,
          47,
          42,
          25,
          34,
          40.4,
          32,
          30,
          13,
          40.76923076923077,
          31,
          37.5,
          38,
          39.53333333333333,
          7,
          20,
          27,
          50,
          52,
          43.4,
          37.916666666666664,
          6,
          31,
          35,
          29,
          20.333333333333332,
          43.422222222222224,
          44,
          34.351351351351354,
          42.888888888888886,
          44.111111111111114,
          38.87096774193548,
          53,
          33.666666666666664,
          19.333333333333332,
          17,
          20,
          9.5,
          5,
          40,
          29,
          16,
          23,
          28,
          8.5,
          27,
          14,
          58,
          27,
          28.5,
          51,
          40.75,
          3,
          39.27272727272727,
          42.5,
          15,
          39.80769230769231,
          11,
          23.75,
          27,
          17.75,
          26.5,
          54.5,
          42.5,
          30.5,
          14,
          43.21649484536083,
          52,
          50.666666666666664,
          37.758620689655174,
          28,
          16.5,
          23,
          23,
          21.166666666666668,
          51.77777777777778,
          20,
          29.2,
          42,
          32.38775510204081,
          29.333333333333332,
          47,
          19,
          27.5,
          36.81363636363636,
          44.68181818181818,
          42.785714285714285,
          40.956896551724135,
          53,
          35,
          35,
          35.666666666666664,
          2,
          54,
          43.8,
          42,
          37.5,
          23,
          36.5,
          47,
          32.42857142857143,
          26,
          38,
          33,
          2,
          7,
          46,
          47.12,
          45,
          17,
          36.5,
          18,
          49,
          46,
          53,
          17,
          45.333333333333336,
          59,
          38.61538461538461,
          51.166666666666664,
          37.295081967213115,
          39,
          14,
          50,
          54,
          29,
          9,
          45,
          45.15384615384615,
          5,
          26,
          32.18181818181818,
          29.666666666666668,
          17,
          56,
          40,
          39.166666666666664,
          37.92857142857143,
          19,
          43.5,
          32,
          47,
          11,
          25,
          22.333333333333332,
          38,
          42.793103448275865,
          53,
          51.9,
          30,
          48,
          54,
          34,
          15.5,
          8,
          36.36507936507937,
          31.5,
          31,
          34.970588235294116,
          34,
          22.5,
          34,
          24.25,
          54.6,
          2,
          41.214285714285715,
          29,
          27.875,
          40.403225806451616,
          33,
          38.666666666666664,
          38.04494382022472,
          44,
          38.388888888888886,
          40.58620689655172,
          37.82857142857143,
          43,
          34,
          31,
          22,
          27,
          11,
          36,
          59,
          26.125,
          13,
          23,
          50,
          24,
          48,
          34.25,
          37,
          38,
          34.5,
          44,
          55.5,
          41,
          36,
          33,
          37.333333333333336,
          35.916666666666664,
          35,
          29.916666666666668,
          29,
          37.698412698412696,
          16,
          17,
          13,
          39,
          11,
          55,
          54.666666666666664,
          59,
          33,
          35,
          19,
          22,
          57,
          35.696969696969695,
          9,
          31.583333333333332,
          53,
          25.5,
          23,
          37,
          58.333333333333336,
          33.91304347826087,
          31,
          51,
          11,
          40,
          12,
          22,
          42,
          9,
          40.142857142857146,
          39.89171974522293,
          34.125,
          39,
          47,
          29,
          14,
          37.5,
          32,
          31,
          36.333333333333336,
          8.5,
          50.5,
          45.76923076923077,
          38.73684210526316,
          40.74698795180723,
          52,
          6,
          40.25837320574163,
          12,
          36.833333333333336,
          38.416666666666664,
          37.60344827586207
         ],
         "xaxis": "x",
         "yaxis": "y"
        }
       ],
       "layout": {
        "barmode": "relative",
        "legend": {
         "tracegroupgap": 0
        },
        "template": {
         "data": {
          "candlestick": [
           {
            "decreasing": {
             "line": {
              "color": "#000033"
             }
            },
            "increasing": {
             "line": {
              "color": "#000032"
             }
            },
            "type": "candlestick"
           }
          ],
          "contour": [
           {
            "colorscale": [
             [
              0,
              "#000011"
             ],
             [
              0.1111111111111111,
              "#000012"
             ],
             [
              0.2222222222222222,
              "#000013"
             ],
             [
              0.3333333333333333,
              "#000014"
             ],
             [
              0.4444444444444444,
              "#000015"
             ],
             [
              0.5555555555555556,
              "#000016"
             ],
             [
              0.6666666666666666,
              "#000017"
             ],
             [
              0.7777777777777778,
              "#000018"
             ],
             [
              0.8888888888888888,
              "#000019"
             ],
             [
              1,
              "#000020"
             ]
            ],
            "type": "contour"
           }
          ],
          "contourcarpet": [
           {
            "colorscale": [
             [
              0,
              "#000011"
             ],
             [
              0.1111111111111111,
              "#000012"
             ],
             [
              0.2222222222222222,
              "#000013"
             ],
             [
              0.3333333333333333,
              "#000014"
             ],
             [
              0.4444444444444444,
              "#000015"
             ],
             [
              0.5555555555555556,
              "#000016"
             ],
             [
              0.6666666666666666,
              "#000017"
             ],
             [
              0.7777777777777778,
              "#000018"
             ],
             [
              0.8888888888888888,
              "#000019"
             ],
             [
              1,
              "#000020"
             ]
            ],
            "type": "contourcarpet"
           }
          ],
          "heatmap": [
           {
            "colorscale": [
             [
              0,
              "#000011"
             ],
             [
              0.1111111111111111,
              "#000012"
             ],
             [
              0.2222222222222222,
              "#000013"
             ],
             [
              0.3333333333333333,
              "#000014"
             ],
             [
              0.4444444444444444,
              "#000015"
             ],
             [
              0.5555555555555556,
              "#000016"
             ],
             [
              0.6666666666666666,
              "#000017"
             ],
             [
              0.7777777777777778,
              "#000018"
             ],
             [
              0.8888888888888888,
              "#000019"
             ],
             [
              1,
              "#000020"
             ]
            ],
            "type": "heatmap"
           }
          ],
          "histogram2d": [
           {
            "colorscale": [
             [
              0,
              "#000011"
             ],
             [
              0.1111111111111111,
              "#000012"
             ],
             [
              0.2222222222222222,
              "#000013"
             ],
             [
              0.3333333333333333,
              "#000014"
             ],
             [
              0.4444444444444444,
              "#000015"
             ],
             [
              0.5555555555555556,
              "#000016"
             ],
             [
              0.6666666666666666,
              "#000017"
             ],
             [
              0.7777777777777778,
              "#000018"
             ],
             [
              0.8888888888888888,
              "#000019"
             ],
             [
              1,
              "#000020"
             ]
            ],
            "type": "histogram2d"
           }
          ],
          "icicle": [
           {
            "textfont": {
             "color": "white"
            },
            "type": "icicle"
           }
          ],
          "sankey": [
           {
            "textfont": {
             "color": "#000036"
            },
            "type": "sankey"
           }
          ],
          "scatter": [
           {
            "marker": {
             "line": {
              "width": 0
             }
            },
            "type": "scatter"
           }
          ],
          "table": [
           {
            "cells": {
             "fill": {
              "color": "#000038"
             },
             "font": {
              "color": "#000037"
             },
             "line": {
              "color": "#000039"
             }
            },
            "header": {
             "fill": {
              "color": "#000040"
             },
             "font": {
              "color": "#000036"
             },
             "line": {
              "color": "#000039"
             }
            },
            "type": "table"
           }
          ],
          "waterfall": [
           {
            "connector": {
             "line": {
              "color": "#000036",
              "width": 2
             }
            },
            "decreasing": {
             "marker": {
              "color": "#000033"
             }
            },
            "increasing": {
             "marker": {
              "color": "#000032"
             }
            },
            "totals": {
             "marker": {
              "color": "#000034"
             }
            },
            "type": "waterfall"
           }
          ]
         },
         "layout": {
          "coloraxis": {
           "colorscale": [
            [
             0,
             "#000011"
            ],
            [
             0.1111111111111111,
             "#000012"
            ],
            [
             0.2222222222222222,
             "#000013"
            ],
            [
             0.3333333333333333,
             "#000014"
            ],
            [
             0.4444444444444444,
             "#000015"
            ],
            [
             0.5555555555555556,
             "#000016"
            ],
            [
             0.6666666666666666,
             "#000017"
            ],
            [
             0.7777777777777778,
             "#000018"
            ],
            [
             0.8888888888888888,
             "#000019"
            ],
            [
             1,
             "#000020"
            ]
           ]
          },
          "colorscale": {
           "diverging": [
            [
             0,
             "#000021"
            ],
            [
             0.1,
             "#000022"
            ],
            [
             0.2,
             "#000023"
            ],
            [
             0.3,
             "#000024"
            ],
            [
             0.4,
             "#000025"
            ],
            [
             0.5,
             "#000026"
            ],
            [
             0.6,
             "#000027"
            ],
            [
             0.7,
             "#000028"
            ],
            [
             0.8,
             "#000029"
            ],
            [
             0.9,
             "#000030"
            ],
            [
             1,
             "#000031"
            ]
           ],
           "sequential": [
            [
             0,
             "#000011"
            ],
            [
             0.1111111111111111,
             "#000012"
            ],
            [
             0.2222222222222222,
             "#000013"
            ],
            [
             0.3333333333333333,
             "#000014"
            ],
            [
             0.4444444444444444,
             "#000015"
            ],
            [
             0.5555555555555556,
             "#000016"
            ],
            [
             0.6666666666666666,
             "#000017"
            ],
            [
             0.7777777777777778,
             "#000018"
            ],
            [
             0.8888888888888888,
             "#000019"
            ],
            [
             1,
             "#000020"
            ]
           ],
           "sequentialminus": [
            [
             0,
             "#000011"
            ],
            [
             0.1111111111111111,
             "#000012"
            ],
            [
             0.2222222222222222,
             "#000013"
            ],
            [
             0.3333333333333333,
             "#000014"
            ],
            [
             0.4444444444444444,
             "#000015"
            ],
            [
             0.5555555555555556,
             "#000016"
            ],
            [
             0.6666666666666666,
             "#000017"
            ],
            [
             0.7777777777777778,
             "#000018"
            ],
            [
             0.8888888888888888,
             "#000019"
            ],
            [
             1,
             "#000020"
            ]
           ]
          },
          "colorway": [
           "#000001",
           "#000002",
           "#000003",
           "#000004",
           "#000005",
           "#000006",
           "#000007",
           "#000008",
           "#000009",
           "#000010"
          ]
         }
        },
        "title": {
         "text": "Average Days Vehicles Listed Below 20,000 Dollars"
        },
        "xaxis": {
         "anchor": "y",
         "domain": [
          0,
          1
         ],
         "title": {
          "text": "Average Days Listed"
         }
        },
        "yaxis": {
         "anchor": "x",
         "domain": [
          0,
          1
         ],
         "title": {
          "text": "count"
         }
        }
       }
      }
     },
     "metadata": {},
     "output_type": "display_data"
    },
    {
     "data": {
      "application/vnd.plotly.v1+json": {
       "config": {
        "plotlyServerURL": "https://plot.ly"
       },
       "data": [
        {
         "alignmentgroup": "True",
         "bingroup": "x",
         "hovertemplate": "Average Days Listed=%{x}<br>count=%{y}<extra></extra>",
         "legendgroup": "",
         "marker": {
          "color": "#33ccff",
          "line": {
           "color": "black",
           "width": 1.5
          },
          "pattern": {
           "shape": ""
          }
         },
         "name": "",
         "nbinsx": 30,
         "offsetgroup": "",
         "orientation": "v",
         "showlegend": false,
         "type": "histogram",
         "x": [
          34.216981132075475,
          24,
          42.6551724137931,
          13,
          24.5,
          16.75,
          31.333333333333332,
          18,
          54,
          54,
          18,
          22,
          48,
          38.5,
          50.25,
          5.333333333333333,
          53.833333333333336,
          28,
          47.375,
          39.25,
          35.767857142857146,
          39,
          30,
          17,
          47.75,
          31.333333333333332,
          30,
          42,
          24,
          41.888888888888886,
          15,
          42,
          29,
          42.333333333333336,
          13,
          15,
          33,
          7,
          57,
          28,
          37.11904761904762,
          22.333333333333332,
          27,
          39,
          17.333333333333332,
          43.47826086956522,
          38.932432432432435,
          30,
          26,
          36.37931034482759,
          12,
          30.5,
          27.76923076923077,
          43.476190476190474,
          37.55555555555556,
          34.5,
          38.03125,
          60,
          12,
          48.5,
          41.5,
          12,
          5,
          26.666666666666668,
          46,
          39.297872340425535,
          59.5,
          20,
          34.666666666666664,
          25,
          5,
          46,
          37.63636363636363,
          28.6875,
          32.578947368421055,
          31,
          53,
          35.3,
          20,
          49,
          38,
          24,
          37.55555555555556,
          40,
          11,
          50.333333333333336,
          32.5,
          20.333333333333332,
          37.411764705882355,
          55,
          36,
          24.666666666666668,
          39.714285714285715,
          27,
          13,
          36.55625,
          32,
          53,
          41.3125,
          26.5,
          36.5,
          8,
          12,
          16,
          54.06666666666667,
          31,
          44.064516129032256,
          37.5,
          20,
          12.5,
          44.683673469387756,
          20.75,
          34.285714285714285,
          40.473684210526315,
          40.34567901234568,
          32.55555555555556,
          17,
          26,
          40.5,
          54,
          50,
          41,
          59,
          44,
          33,
          28.5,
          47,
          55,
          43,
          32.5,
          36.22222222222222,
          38.75,
          38.35849056603774,
          39,
          2,
          26,
          13,
          24,
          47,
          60,
          28,
          17,
          11,
          11,
          33,
          15,
          23,
          53.333333333333336,
          56,
          9,
          44,
          42.5,
          17.5,
          35.5625,
          19,
          37,
          36.6,
          39.098591549295776,
          14,
          23,
          35,
          46.5,
          26,
          40.25,
          19,
          27,
          39.857142857142854,
          23.5,
          27.666666666666668,
          37.59090909090909,
          46.48,
          38.93939393939394,
          59.5,
          51.57142857142857,
          41,
          41.51376146788991,
          48.666666666666664,
          36.083333333333336,
          26,
          42,
          33,
          29,
          52.25,
          37,
          40.666666666666664,
          43.06666666666667,
          24,
          19,
          18,
          37.5625,
          24,
          21.5,
          8,
          23,
          35.75,
          13,
          59.5,
          24,
          12,
          38.75,
          33,
          42,
          13,
          33.471698113207545,
          18,
          8,
          27.5,
          41.666666666666664,
          42.49367088607595,
          36.5,
          38.391304347826086,
          46.5,
          21,
          40,
          32.5,
          31,
          24,
          29,
          44,
          31.25,
          39.925925925925924,
          31,
          37.72566371681416,
          20,
          6,
          50.714285714285715,
          38.69444444444444,
          38.391891891891895,
          29,
          39.09090909090909,
          36,
          46,
          57,
          32.875,
          52,
          42,
          15,
          36,
          43,
          34.714285714285715,
          7.666666666666667,
          39,
          26,
          38,
          32,
          47.266666666666666,
          45,
          37.220588235294116,
          37,
          28,
          40.5,
          9,
          37.90909090909091,
          19,
          23,
          30.666666666666668,
          36.73684210526316,
          39.166666666666664,
          35.5,
          43,
          39,
          46,
          34,
          41.7,
          35.5,
          31.5,
          41,
          22.5,
          22.5,
          7,
          26,
          50.25,
          39.116279069767444,
          13,
          31,
          35.5,
          42,
          42.42857142857143,
          14,
          28,
          33,
          17,
          20,
          34.72727272727273,
          38.333333333333336,
          14,
          33,
          7,
          46.285714285714285,
          37,
          40.02564102564103,
          34.36190476190476,
          37,
          42.888888888888886,
          30.92,
          37.69,
          36.56666666666667,
          32.4,
          37.810810810810814,
          38,
          28,
          48.76923076923077,
          59.5,
          55,
          19,
          32,
          13,
          46,
          35,
          36.714285714285715,
          38.125,
          48.87234042553192,
          24,
          25,
          37,
          50,
          45.659574468085104,
          43,
          4,
          20,
          32,
          16,
          11,
          40.53846153846154,
          37.2,
          55.5,
          32,
          33,
          44.8,
          46.86666666666667,
          34,
          27.666666666666668,
          46,
          44,
          34,
          51,
          60,
          6,
          43.109756097560975,
          32.75,
          58,
          39.5,
          24.6,
          36,
          48.63636363636363,
          43.25,
          32.5,
          30.5,
          45.666666666666664,
          20,
          56.642857142857146,
          30.88888888888889,
          23,
          40,
          35.97222222222222,
          30,
          24.5,
          32.05555555555556,
          43.205882352941174,
          29,
          39,
          28,
          55,
          23,
          47.125,
          37,
          32.705882352941174,
          21,
          43,
          39.25,
          37.5,
          39.52,
          9,
          27.555555555555557,
          11,
          38.130434782608695,
          28,
          21,
          38.833333333333336,
          59,
          43,
          18,
          26,
          1,
          12,
          46.333333333333336,
          10,
          53,
          33.75,
          25,
          28.25,
          11,
          42.25,
          26,
          33.333333333333336,
          7,
          28,
          16,
          23,
          36,
          28,
          28.4,
          35.6,
          36.166666666666664,
          40.333333333333336,
          19,
          35.84615384615385,
          39.62921348314607,
          36.642857142857146,
          48.833333333333336,
          39.45,
          44.044444444444444,
          23,
          43,
          39.5,
          35,
          25.333333333333332,
          44.666666666666664,
          42,
          27.083333333333332,
          23,
          45,
          22,
          17.5,
          42.84905660377358,
          40,
          34,
          19,
          14,
          37.5,
          45,
          31.75,
          30.875,
          55.666666666666664,
          56,
          35,
          49,
          36,
          31.666666666666668,
          39,
          8,
          8.5,
          39.28888888888889,
          43,
          14,
          21,
          27.666666666666668,
          44.53191489361702,
          15,
          20,
          28,
          52.5,
          44.27272727272727,
          11,
          10,
          41.8,
          23,
          25,
          29.866666666666667,
          47.666666666666664,
          53,
          19,
          40.741573033707866,
          59,
          36.529411764705884,
          34.48148148148148,
          27,
          26.333333333333332,
          36,
          39.666666666666664,
          38,
          27.666666666666668,
          24,
          29,
          30.666666666666668,
          21,
          11,
          33,
          15,
          46,
          19,
          44.108695652173914,
          10,
          1,
          48,
          15,
          44.666666666666664,
          12,
          21,
          31.75,
          39,
          56,
          15,
          44,
          25.5,
          15,
          21.8,
          39.5,
          49,
          17,
          35,
          6,
          1,
          34,
          21,
          55,
          33,
          19,
          38.75,
          40.58585858585859,
          58,
          29,
          32.04761904761905,
          57,
          13,
          15,
          50,
          35.285714285714285,
          37.61194029850746,
          6,
          44.57142857142857,
          21.333333333333332,
          19.666666666666668,
          36.2,
          39.93103448275862,
          35.5,
          34.857142857142854,
          15,
          55,
          43,
          43,
          45,
          30.5,
          49,
          27,
          17,
          25.5,
          32,
          37,
          26.666666666666668,
          39.76315789473684,
          23,
          57,
          37.36363636363637,
          33.57142857142857,
          45,
          15,
          9,
          43.333333333333336,
          30,
          21,
          22,
          16,
          13,
          29,
          52.42857142857143,
          50,
          41.5,
          37.945454545454545,
          41,
          34.57142857142857,
          38,
          33,
          58,
          32,
          38.666666666666664,
          50,
          27,
          29,
          32.666666666666664,
          43.625,
          49.333333333333336,
          33,
          32.61904761904762,
          35,
          39.63636363636363,
          44.791666666666664,
          44.94230769230769,
          48.25,
          25,
          19,
          46.53846153846154,
          22,
          30,
          31,
          38.333333333333336,
          17.25,
          46.8,
          44.82608695652174,
          45.75,
          9,
          52.666666666666664,
          42.75,
          33,
          50.5,
          42,
          31,
          32,
          48,
          58.916666666666664,
          22,
          37,
          22,
          27,
          37,
          40,
          22,
          21.333333333333332,
          34.18181818181818,
          28.5,
          29.294117647058822,
          45.333333333333336,
          43.02857142857143,
          40,
          53,
          16,
          38,
          47,
          50.5,
          39,
          23.25,
          16.5,
          24.5,
          38.34375,
          32.5,
          13.2,
          51,
          48.5,
          49,
          44,
          31,
          19,
          33,
          9,
          40.608695652173914,
          15,
          12.5,
          44,
          42,
          45.6764705882353,
          22,
          38,
          32,
          27.75,
          57,
          37,
          29.5,
          35.5,
          33.25,
          39,
          47.15151515151515,
          50,
          40.22222222222222,
          49.111111111111114,
          39.48936170212766,
          1,
          24.5,
          14,
          16,
          28,
          14,
          40,
          43,
          48.5,
          7,
          51.36842105263158,
          31,
          15,
          31,
          43.75,
          21,
          39.411764705882355,
          47.5,
          19,
          21.5,
          44,
          40.666666666666664,
          11,
          37,
          15,
          48,
          48.5,
          26.25,
          27,
          38.32258064516129,
          41,
          33.44444444444444,
          35.375,
          26,
          38.54545454545455,
          38.958333333333336,
          12,
          28,
          49,
          35,
          38.23529411764706,
          45,
          45,
          32,
          6,
          51,
          11,
          34.61904761904762,
          18.5,
          28.666666666666668,
          17,
          42,
          5,
          20,
          14,
          27.2,
          24,
          31,
          32,
          36.72727272727273,
          16,
          32,
          54.333333333333336,
          33,
          50.064516129032256,
          51,
          34,
          54.38461538461539,
          12,
          11,
          4,
          21,
          23,
          32,
          25,
          37,
          50.5,
          32.96969696969697,
          23,
          20,
          23.5,
          57.2,
          23,
          19.5,
          43,
          39,
          46,
          26,
          22,
          28.666666666666668,
          40,
          30.5,
          19,
          37,
          39.57377049180328,
          15,
          29,
          34,
          36.81818181818182,
          40,
          5,
          43,
          36.30769230769231,
          38.642857142857146,
          36,
          21.25,
          45,
          41.575,
          36.111111111111114,
          39.707317073170735,
          36,
          26,
          30,
          33,
          16,
          55,
          33.111111111111114,
          24.363636363636363,
          55,
          11,
          29.666666666666668,
          29,
          45,
          54,
          45,
          22,
          53.333333333333336,
          35,
          52,
          41.294117647058826,
          35.666666666666664,
          12.5,
          58.666666666666664,
          28,
          11,
          38,
          32.5,
          48.8,
          55,
          46.1875,
          31,
          29.714285714285715,
          48.76470588235294,
          27,
          10,
          42.5,
          53,
          32,
          22,
          36,
          11.5,
          12,
          37.8,
          17.5,
          22.5,
          22.5,
          25.5,
          15,
          9,
          34,
          47.5,
          27.333333333333332,
          34,
          31.944444444444443,
          46,
          53,
          35.8,
          33,
          55.5,
          51.625,
          6,
          41.13793103448276,
          36,
          23.8,
          39.55172413793103,
          22,
          43,
          57,
          28.5,
          35.75,
          23,
          49.55,
          29.333333333333332,
          58,
          53,
          3,
          9,
          27,
          40,
          40.4,
          19,
          7,
          2,
          34,
          38.666666666666664,
          30.5,
          11,
          47.666666666666664,
          19.75,
          40.08,
          43,
          29,
          58,
          60,
          20,
          30,
          7,
          23.25,
          35.80555555555556,
          28,
          32,
          29,
          24,
          25,
          28,
          11,
          20,
          49.25,
          40.6,
          49.333333333333336,
          14,
          44.95238095238095,
          27.25,
          50.36363636363637,
          13,
          40.75,
          23,
          4,
          29,
          50.142857142857146,
          15,
          33.25,
          49,
          42,
          16,
          31.5,
          2,
          37,
          31.5,
          32.666666666666664,
          48.333333333333336,
          45.333333333333336,
          49.57142857142857,
          27,
          58.5,
          43.45454545454545,
          36.05882352941177,
          43.5,
          60,
          15,
          35.5,
          14.5,
          40,
          25,
          41.4,
          50.5,
          43.833333333333336,
          34.18181818181818,
          8,
          29,
          19,
          28.428571428571427,
          31,
          43,
          40,
          26,
          36.833333333333336,
          49.4,
          27.4,
          29,
          36,
          35.90909090909091,
          34.666666666666664,
          51.5,
          38,
          30,
          40.25,
          38.333333333333336,
          38,
          5,
          36,
          30,
          51,
          22.8,
          40.81578947368421,
          41.75,
          47.57142857142857,
          16,
          53.5,
          22,
          56,
          34.5,
          33.5,
          35,
          45,
          52,
          46,
          42,
          33.583333333333336,
          28.8,
          18,
          28,
          26,
          32,
          25.5,
          44,
          28,
          49,
          48,
          11,
          34.5,
          13,
          11,
          35.5,
          40.8125,
          43.5,
          7,
          44.84,
          17,
          18,
          34.8,
          37,
          45,
          3,
          27,
          58.5,
          52,
          41,
          8,
          14,
          40,
          34.75,
          40.4,
          36.2,
          49.5,
          18,
          33,
          44.5,
          48,
          23.333333333333332,
          15,
          24,
          15.666666666666666,
          30.75,
          38.857142857142854,
          15,
          38,
          11,
          57,
          8,
          28,
          26.8,
          44.333333333333336,
          39,
          47.36363636363637,
          26,
          43.25,
          41.666666666666664,
          8,
          53,
          26,
          57,
          52,
          33,
          13,
          19.8,
          44.714285714285715,
          52.5,
          29,
          38.76923076923077,
          37,
          39.75,
          2,
          55,
          50,
          32,
          57.25,
          32,
          59,
          4,
          43.266666666666666,
          25,
          48,
          33.5,
          19.714285714285715,
          46,
          2,
          37,
          15,
          41,
          49,
          35,
          21,
          33,
          33.42857142857143,
          21,
          13.5,
          27.5,
          35.2,
          42,
          43,
          35,
          37.53846153846154,
          24,
          18.333333333333332,
          22,
          22,
          17.5,
          9,
          29,
          19,
          40.5,
          23,
          53,
          51,
          29,
          29,
          38,
          8,
          51,
          24,
          9,
          24.5,
          56,
          40.111111111111114,
          12,
          31.666666666666668,
          9.5,
          25,
          8,
          43,
          24,
          39,
          24,
          6,
          30,
          37,
          39,
          23,
          25,
          30,
          35,
          21.5,
          4,
          25,
          14,
          45,
          17,
          60,
          31,
          37.5,
          31,
          21,
          28,
          22,
          7,
          55,
          19,
          34,
          53,
          27,
          31.333333333333332,
          8,
          29,
          57,
          53.5,
          39,
          21
         ],
         "xaxis": "x",
         "yaxis": "y"
        }
       ],
       "layout": {
        "barmode": "relative",
        "legend": {
         "tracegroupgap": 0
        },
        "template": {
         "data": {
          "candlestick": [
           {
            "decreasing": {
             "line": {
              "color": "#000033"
             }
            },
            "increasing": {
             "line": {
              "color": "#000032"
             }
            },
            "type": "candlestick"
           }
          ],
          "contour": [
           {
            "colorscale": [
             [
              0,
              "#000011"
             ],
             [
              0.1111111111111111,
              "#000012"
             ],
             [
              0.2222222222222222,
              "#000013"
             ],
             [
              0.3333333333333333,
              "#000014"
             ],
             [
              0.4444444444444444,
              "#000015"
             ],
             [
              0.5555555555555556,
              "#000016"
             ],
             [
              0.6666666666666666,
              "#000017"
             ],
             [
              0.7777777777777778,
              "#000018"
             ],
             [
              0.8888888888888888,
              "#000019"
             ],
             [
              1,
              "#000020"
             ]
            ],
            "type": "contour"
           }
          ],
          "contourcarpet": [
           {
            "colorscale": [
             [
              0,
              "#000011"
             ],
             [
              0.1111111111111111,
              "#000012"
             ],
             [
              0.2222222222222222,
              "#000013"
             ],
             [
              0.3333333333333333,
              "#000014"
             ],
             [
              0.4444444444444444,
              "#000015"
             ],
             [
              0.5555555555555556,
              "#000016"
             ],
             [
              0.6666666666666666,
              "#000017"
             ],
             [
              0.7777777777777778,
              "#000018"
             ],
             [
              0.8888888888888888,
              "#000019"
             ],
             [
              1,
              "#000020"
             ]
            ],
            "type": "contourcarpet"
           }
          ],
          "heatmap": [
           {
            "colorscale": [
             [
              0,
              "#000011"
             ],
             [
              0.1111111111111111,
              "#000012"
             ],
             [
              0.2222222222222222,
              "#000013"
             ],
             [
              0.3333333333333333,
              "#000014"
             ],
             [
              0.4444444444444444,
              "#000015"
             ],
             [
              0.5555555555555556,
              "#000016"
             ],
             [
              0.6666666666666666,
              "#000017"
             ],
             [
              0.7777777777777778,
              "#000018"
             ],
             [
              0.8888888888888888,
              "#000019"
             ],
             [
              1,
              "#000020"
             ]
            ],
            "type": "heatmap"
           }
          ],
          "histogram2d": [
           {
            "colorscale": [
             [
              0,
              "#000011"
             ],
             [
              0.1111111111111111,
              "#000012"
             ],
             [
              0.2222222222222222,
              "#000013"
             ],
             [
              0.3333333333333333,
              "#000014"
             ],
             [
              0.4444444444444444,
              "#000015"
             ],
             [
              0.5555555555555556,
              "#000016"
             ],
             [
              0.6666666666666666,
              "#000017"
             ],
             [
              0.7777777777777778,
              "#000018"
             ],
             [
              0.8888888888888888,
              "#000019"
             ],
             [
              1,
              "#000020"
             ]
            ],
            "type": "histogram2d"
           }
          ],
          "icicle": [
           {
            "textfont": {
             "color": "white"
            },
            "type": "icicle"
           }
          ],
          "sankey": [
           {
            "textfont": {
             "color": "#000036"
            },
            "type": "sankey"
           }
          ],
          "scatter": [
           {
            "marker": {
             "line": {
              "width": 0
             }
            },
            "type": "scatter"
           }
          ],
          "table": [
           {
            "cells": {
             "fill": {
              "color": "#000038"
             },
             "font": {
              "color": "#000037"
             },
             "line": {
              "color": "#000039"
             }
            },
            "header": {
             "fill": {
              "color": "#000040"
             },
             "font": {
              "color": "#000036"
             },
             "line": {
              "color": "#000039"
             }
            },
            "type": "table"
           }
          ],
          "waterfall": [
           {
            "connector": {
             "line": {
              "color": "#000036",
              "width": 2
             }
            },
            "decreasing": {
             "marker": {
              "color": "#000033"
             }
            },
            "increasing": {
             "marker": {
              "color": "#000032"
             }
            },
            "totals": {
             "marker": {
              "color": "#000034"
             }
            },
            "type": "waterfall"
           }
          ]
         },
         "layout": {
          "coloraxis": {
           "colorscale": [
            [
             0,
             "#000011"
            ],
            [
             0.1111111111111111,
             "#000012"
            ],
            [
             0.2222222222222222,
             "#000013"
            ],
            [
             0.3333333333333333,
             "#000014"
            ],
            [
             0.4444444444444444,
             "#000015"
            ],
            [
             0.5555555555555556,
             "#000016"
            ],
            [
             0.6666666666666666,
             "#000017"
            ],
            [
             0.7777777777777778,
             "#000018"
            ],
            [
             0.8888888888888888,
             "#000019"
            ],
            [
             1,
             "#000020"
            ]
           ]
          },
          "colorscale": {
           "diverging": [
            [
             0,
             "#000021"
            ],
            [
             0.1,
             "#000022"
            ],
            [
             0.2,
             "#000023"
            ],
            [
             0.3,
             "#000024"
            ],
            [
             0.4,
             "#000025"
            ],
            [
             0.5,
             "#000026"
            ],
            [
             0.6,
             "#000027"
            ],
            [
             0.7,
             "#000028"
            ],
            [
             0.8,
             "#000029"
            ],
            [
             0.9,
             "#000030"
            ],
            [
             1,
             "#000031"
            ]
           ],
           "sequential": [
            [
             0,
             "#000011"
            ],
            [
             0.1111111111111111,
             "#000012"
            ],
            [
             0.2222222222222222,
             "#000013"
            ],
            [
             0.3333333333333333,
             "#000014"
            ],
            [
             0.4444444444444444,
             "#000015"
            ],
            [
             0.5555555555555556,
             "#000016"
            ],
            [
             0.6666666666666666,
             "#000017"
            ],
            [
             0.7777777777777778,
             "#000018"
            ],
            [
             0.8888888888888888,
             "#000019"
            ],
            [
             1,
             "#000020"
            ]
           ],
           "sequentialminus": [
            [
             0,
             "#000011"
            ],
            [
             0.1111111111111111,
             "#000012"
            ],
            [
             0.2222222222222222,
             "#000013"
            ],
            [
             0.3333333333333333,
             "#000014"
            ],
            [
             0.4444444444444444,
             "#000015"
            ],
            [
             0.5555555555555556,
             "#000016"
            ],
            [
             0.6666666666666666,
             "#000017"
            ],
            [
             0.7777777777777778,
             "#000018"
            ],
            [
             0.8888888888888888,
             "#000019"
            ],
            [
             1,
             "#000020"
            ]
           ]
          },
          "colorway": [
           "#000001",
           "#000002",
           "#000003",
           "#000004",
           "#000005",
           "#000006",
           "#000007",
           "#000008",
           "#000009",
           "#000010"
          ]
         }
        },
        "title": {
         "text": "Average Days Vehicles Listed Above 20,000 Dollars"
        },
        "xaxis": {
         "anchor": "y",
         "domain": [
          0,
          1
         ],
         "title": {
          "text": "Average Days Listed"
         }
        },
        "yaxis": {
         "anchor": "x",
         "domain": [
          0,
          1
         ],
         "range": [
          0,
          160
         ],
         "title": {
          "text": "count"
         }
        }
       }
      }
     },
     "metadata": {},
     "output_type": "display_data"
    }
   ],
   "source": [
    "# Filter average days listed by prices, for vehicles less than 60 days\n",
    "avg_days_listed_price = df.groupby('price')['days_listed'].mean().reset_index()\n",
    "avg_days_listed_price = avg_days_listed_price[avg_days_listed_price['days_listed'] <= 60]\n",
    "\n",
    "# distribution of vehicles price more than 20,000 by days, and less 60 days\n",
    "avg_days_listed_price_above_20000 = avg_days_listed_price[avg_days_listed_price['price'] >= 20000]\n",
    "\n",
    "# distribution of vehicles price less than 20,000 by days, and less 60 days\n",
    "avg_days_listed_price_below_20000 = avg_days_listed_price[avg_days_listed_price['price'] < 20000]\n",
    "\n",
    "# create histograms\n",
    "fig1 = pl.histogram(avg_days_listed_price_above_20000, x='days_listed', nbins=30, title='Average Days Vehicles Listed Above 20,000 Dollars', labels={'days_listed': 'Average Days Listed'}, color_discrete_sequence=['#33ccff'])\n",
    "\n",
    "fig1.update_traces(marker_line_color='black', marker_line_width=1.5)\n",
    "fig1.update_yaxes(range=[0, 160])\n",
    "\n",
    "fig2 = pl.histogram(avg_days_listed_price_below_20000, x='days_listed', nbins=30, title='Average Days Vehicles Listed Below 20,000 Dollars', labels={'days_listed': 'Average Days Listed'}, color_discrete_sequence=['#8585e0'])\n",
    "\n",
    "fig2.update_traces(marker_line_color='black', marker_line_width=1.5)\n",
    "fig1.update_yaxes(range=[0, 160])\n",
    "\n",
    "fig2.show()\n",
    "fig1.show()"
   ]
  },
  {
   "cell_type": "code",
   "execution_count": null,
   "metadata": {},
   "outputs": [],
   "source": []
  }
 ],
 "metadata": {
  "kernelspec": {
   "display_name": "Python 3",
   "language": "python",
   "name": "python3"
  },
  "language_info": {
   "codemirror_mode": {
    "name": "ipython",
    "version": 3
   },
   "file_extension": ".py",
   "mimetype": "text/x-python",
   "name": "python",
   "nbconvert_exporter": "python",
   "pygments_lexer": "ipython3",
   "version": "3.11.9"
  }
 },
 "nbformat": 4,
 "nbformat_minor": 2
}
